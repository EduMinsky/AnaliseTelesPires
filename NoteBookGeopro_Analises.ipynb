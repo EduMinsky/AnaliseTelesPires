{
 "cells": [
  {
   "cell_type": "markdown",
   "metadata": {},
   "source": [
    "# Criando os rasters de uso da terra dentro de cada classe "
   ]
  },
  {
   "cell_type": "code",
   "execution_count": 3,
   "metadata": {},
   "outputs": [
    {
     "data": {
      "text/html": [
       "<div class='gpresult'><h2>Messages</h2><div id='messages' data-messages='[\"Start Time: terça-feira, 20 de junho de 2023 10:34:26\",\"Building Pyramids...\",\"WARNING 001003: Datum conflict between input and output.\",\"Succeeded at terça-feira, 20 de junho de 2023 10:35:20 (Elapsed Time: 53,27 seconds)\"]' data-show='true'><div id = 'default' /></div></div>"
      ],
      "text/plain": [
       "<Result 'C:\\\\Users\\\\napcc\\\\Dropbox (CPI)\\\\EduardoMinsky\\\\Analise_TellesPires\\\\Analise_Current\\\\HighValuesForPolygons\\\\Analise_UsoDoSolo\\\\BySUM_Area\\\\Brasil_coverage_2021_TI_HighValue_ByArea.tif'>"
      ]
     },
     "execution_count": 3,
     "metadata": {},
     "output_type": "execute_result"
    }
   ],
   "source": [
    "import arcpy as ap\n",
    "ap.Clip_management('C:/Users/napcc/Dropbox (CPI)/EduardoMinsky/Analise_TellesPires/brasil_coverage_2021.tif',\n",
    "                   out_raster ='C:/Users/napcc/Dropbox (CPI)/EduardoMinsky/Analise_TellesPires/Analise_Current/HighValuesForPolygons/Analise_UsoDoSolo/BySUM_Area/Brasil_coverage_2021_TI_HighValue_ByArea.tif',\n",
    "                  in_template_dataset = 'C:/Users/napcc/Dropbox (CPI)/EduardoMinsky/Analise_TellesPires/Analise_Current/HighValuesForPolygons/TIHomolog_HighValue_bySUMBYAREA.shp',\n",
    "                  clipping_geometry = \"ClippingGeometry\",maintain_clipping_extent = 'MAINTAIN_EXTENT')"
   ]
  },
  {
   "cell_type": "code",
   "execution_count": 4,
   "metadata": {},
   "outputs": [
    {
     "data": {
      "text/html": [
       "<div class='gpresult'><h2>Messages</h2><div id='messages' data-messages='[\"Start Time: terça-feira, 20 de junho de 2023 10:39:11\",\"Building Pyramids...\",\"WARNING 001003: Datum conflict between input and output.\",\"Succeeded at terça-feira, 20 de junho de 2023 10:40:41 (Elapsed Time: 1 minutes 29 seconds)\"]' data-show='true'><div id = 'default' /></div></div>"
      ],
      "text/plain": [
       "<Result 'C:\\\\Users\\\\napcc\\\\Dropbox (CPI)\\\\EduardoMinsky\\\\Analise_TellesPires\\\\Analise_Current\\\\HighValuesForPolygons\\\\Analise_UsoDoSolo\\\\BySUM_Area\\\\Brasil_coverage_2021_SNUC_UsoSus_HighValue_ByArea.tif'>"
      ]
     },
     "execution_count": 4,
     "metadata": {},
     "output_type": "execute_result"
    }
   ],
   "source": [
    "import arcpy as ap\n",
    "ap.Clip_management('C:/Users/napcc/Dropbox (CPI)/EduardoMinsky/Analise_TellesPires/brasil_coverage_2021.tif',\n",
    "                   out_raster ='C:/Users/napcc/Dropbox (CPI)/EduardoMinsky/Analise_TellesPires/Analise_Current/HighValuesForPolygons/Analise_UsoDoSolo/BySUM_Area/Brasil_coverage_2021_SNUC_UsoSus_HighValue_ByArea.tif',\n",
    "                  in_template_dataset = 'C:/Users/napcc/Dropbox (CPI)/EduardoMinsky/Analise_TellesPires/Analise_Current/HighValuesForPolygons/SNUC_UsoSUS_HighValue_bySUMBYAREA.shp',\n",
    "                  clipping_geometry = \"ClippingGeometry\",maintain_clipping_extent = 'MAINTAIN_EXTENT')"
   ]
  },
  {
   "cell_type": "code",
   "execution_count": 5,
   "metadata": {},
   "outputs": [
    {
     "data": {
      "text/html": [
       "<div class='gpresult'><h2>Messages</h2><div id='messages' data-messages='[\"Start Time: terça-feira, 20 de junho de 2023 10:40:41\",\"Building Pyramids...\",\"WARNING 001003: Datum conflict between input and output.\",\"Succeeded at terça-feira, 20 de junho de 2023 10:41:19 (Elapsed Time: 38,35 seconds)\"]' data-show='true'><div id = 'default' /></div></div>"
      ],
      "text/plain": [
       "<Result 'C:\\\\Users\\\\napcc\\\\Dropbox (CPI)\\\\EduardoMinsky\\\\Analise_TellesPires\\\\Analise_Current\\\\HighValuesForPolygons\\\\Analise_UsoDoSolo\\\\BySUM_Area\\\\Brasil_coverage_2021_SNUC_ProtInt_HighValue_ByArea.tif'>"
      ]
     },
     "execution_count": 5,
     "metadata": {},
     "output_type": "execute_result"
    }
   ],
   "source": [
    "import arcpy as ap\n",
    "ap.Clip_management('C:/Users/napcc/Dropbox (CPI)/EduardoMinsky/Analise_TellesPires/brasil_coverage_2021.tif',\n",
    "                   out_raster ='C:/Users/napcc/Dropbox (CPI)/EduardoMinsky/Analise_TellesPires/Analise_Current/HighValuesForPolygons/Analise_UsoDoSolo/BySUM_Area/Brasil_coverage_2021_SNUC_ProtInt_HighValue_ByArea.tif',\n",
    "                  in_template_dataset = 'C:/Users/napcc/Dropbox (CPI)/EduardoMinsky/Analise_TellesPires/Analise_Current/HighValuesForPolygons/SNUC_ProtInt_HighValue_bySUMBYAREA.shp',\n",
    "                  clipping_geometry = \"ClippingGeometry\",maintain_clipping_extent = 'MAINTAIN_EXTENT')"
   ]
  },
  {
   "cell_type": "code",
   "execution_count": 6,
   "metadata": {},
   "outputs": [
    {
     "data": {
      "text/html": [
       "<div class='gpresult'><h2>Messages</h2><div id='messages' data-messages='[\"Start Time: terça-feira, 20 de junho de 2023 10:41:20\",\"Building Pyramids...\",\"WARNING 001003: Datum conflict between input and output.\",\"Succeeded at terça-feira, 20 de junho de 2023 10:42:02 (Elapsed Time: 42,41 seconds)\"]' data-show='true'><div id = 'default' /></div></div>"
      ],
      "text/plain": [
       "<Result 'C:\\\\Users\\\\napcc\\\\Dropbox (CPI)\\\\EduardoMinsky\\\\Analise_TellesPires\\\\Analise_Current\\\\HighValuesForPolygons\\\\Analise_UsoDoSolo\\\\BySUM_Area\\\\Brasil_coverage_2021_SIGEF_HighValue_ByArea.tif'>"
      ]
     },
     "execution_count": 6,
     "metadata": {},
     "output_type": "execute_result"
    }
   ],
   "source": [
    "import arcpy as ap\n",
    "ap.Clip_management('C:/Users/napcc/Dropbox (CPI)/EduardoMinsky/Analise_TellesPires/brasil_coverage_2021.tif',\n",
    "                   out_raster ='C:/Users/napcc/Dropbox (CPI)/EduardoMinsky/Analise_TellesPires/Analise_Current/HighValuesForPolygons/Analise_UsoDoSolo/BySUM_Area/Brasil_coverage_2021_SIGEF_HighValue_ByArea.tif',\n",
    "                  in_template_dataset = 'C:/Users/napcc/Dropbox (CPI)/EduardoMinsky/Analise_TellesPires/Analise_Current/HighValuesForPolygons/SIGEF_HighValue_bySUMBYAREA.shp',\n",
    "                  clipping_geometry = \"ClippingGeometry\",maintain_clipping_extent = 'MAINTAIN_EXTENT')"
   ]
  },
  {
   "cell_type": "code",
   "execution_count": 7,
   "metadata": {},
   "outputs": [
    {
     "data": {
      "text/html": [
       "<div class='gpresult'><h2>Messages</h2><div id='messages' data-messages='[\"Start Time: terça-feira, 20 de junho de 2023 10:42:03\",\"Building Pyramids...\",\"WARNING 001003: Datum conflict between input and output.\",\"Succeeded at terça-feira, 20 de junho de 2023 10:42:35 (Elapsed Time: 31,96 seconds)\"]' data-show='true'><div id = 'default' /></div></div>"
      ],
      "text/plain": [
       "<Result 'C:\\\\Users\\\\napcc\\\\Dropbox (CPI)\\\\EduardoMinsky\\\\Analise_TellesPires\\\\Analise_Current\\\\HighValuesForPolygons\\\\Analise_UsoDoSolo\\\\BySUM_Area\\\\Brasil_coverage_2021_FloraNaoDestinada_HighValue_ByArea.tif'>"
      ]
     },
     "execution_count": 7,
     "metadata": {},
     "output_type": "execute_result"
    }
   ],
   "source": [
    "import arcpy as ap\n",
    "ap.Clip_management('C:/Users/napcc/Dropbox (CPI)/EduardoMinsky/Analise_TellesPires/brasil_coverage_2021.tif',\n",
    "                   out_raster ='C:/Users/napcc/Dropbox (CPI)/EduardoMinsky/Analise_TellesPires/Analise_Current/HighValuesForPolygons/Analise_UsoDoSolo/BySUM_Area/Brasil_coverage_2021_FloraNaoDestinada_HighValue_ByArea.tif',\n",
    "                  in_template_dataset = 'C:/Users/napcc/Dropbox (CPI)/EduardoMinsky/Analise_TellesPires/Analise_Current/HighValuesForPolygons/Flora_Nao_Destinada_HighValue_bySUMBYAREA.shp',\n",
    "                  clipping_geometry = \"ClippingGeometry\",maintain_clipping_extent = 'MAINTAIN_EXTENT')"
   ]
  },
  {
   "cell_type": "code",
   "execution_count": 8,
   "metadata": {},
   "outputs": [
    {
     "data": {
      "text/html": [
       "<div class='gpresult'><h2>Messages</h2><div id='messages' data-messages='[\"Start Time: terça-feira, 20 de junho de 2023 10:42:35\",\"Building Pyramids...\",\"WARNING 001003: Datum conflict between input and output.\",\"Succeeded at terça-feira, 20 de junho de 2023 10:43:10 (Elapsed Time: 35,03 seconds)\"]' data-show='true'><div id = 'default' /></div></div>"
      ],
      "text/plain": [
       "<Result 'C:\\\\Users\\\\napcc\\\\Dropbox (CPI)\\\\EduardoMinsky\\\\Analise_TellesPires\\\\Analise_Current\\\\HighValuesForPolygons\\\\Analise_UsoDoSolo\\\\BySUM_Area\\\\Brasil_coverage_2021_CAR_HighValue_ByArea.tif'>"
      ]
     },
     "execution_count": 8,
     "metadata": {},
     "output_type": "execute_result"
    }
   ],
   "source": [
    "import arcpy as ap\n",
    "ap.Clip_management('C:/Users/napcc/Dropbox (CPI)/EduardoMinsky/Analise_TellesPires/brasil_coverage_2021.tif',\n",
    "                   out_raster ='C:/Users/napcc/Dropbox (CPI)/EduardoMinsky/Analise_TellesPires/Analise_Current/HighValuesForPolygons/Analise_UsoDoSolo/BySUM_Area/Brasil_coverage_2021_CAR_HighValue_ByArea.tif',\n",
    "                  in_template_dataset = 'C:/Users/napcc/Dropbox (CPI)/EduardoMinsky/Analise_TellesPires/Analise_Current/HighValuesForPolygons/CAR_HighValue_by_SUMBYAREA.shp',\n",
    "                  clipping_geometry = \"ClippingGeometry\",maintain_clipping_extent = 'MAINTAIN_EXTENT')"
   ]
  },
  {
   "cell_type": "code",
   "execution_count": 9,
   "metadata": {},
   "outputs": [
    {
     "data": {
      "text/html": [
       "<div class='gpresult'><h2>Messages</h2><div id='messages' data-messages='[\"Start Time: terça-feira, 20 de junho de 2023 10:43:10\",\"Building Pyramids...\",\"WARNING 001003: Datum conflict between input and output.\",\"Succeeded at terça-feira, 20 de junho de 2023 10:43:48 (Elapsed Time: 37,91 seconds)\"]' data-show='true'><div id = 'default' /></div></div>"
      ],
      "text/plain": [
       "<Result 'C:\\\\Users\\\\napcc\\\\Dropbox (CPI)\\\\EduardoMinsky\\\\Analise_TellesPires\\\\Analise_Current\\\\HighValuesForPolygons\\\\Analise_UsoDoSolo\\\\BySUM_Area\\\\Brasil_coverage_2021_Assentamento_HighValue_ByArea.tif'>"
      ]
     },
     "execution_count": 9,
     "metadata": {},
     "output_type": "execute_result"
    }
   ],
   "source": [
    "import arcpy as ap\n",
    "ap.Clip_management('C:/Users/napcc/Dropbox (CPI)/EduardoMinsky/Analise_TellesPires/brasil_coverage_2021.tif',\n",
    "                   out_raster ='C:/Users/napcc/Dropbox (CPI)/EduardoMinsky/Analise_TellesPires/Analise_Current/HighValuesForPolygons/Analise_UsoDoSolo/BySUM_Area/Brasil_coverage_2021_Assentamento_HighValue_ByArea.tif',\n",
    "                  in_template_dataset = 'C:/Users/napcc/Dropbox (CPI)/EduardoMinsky/Analise_TellesPires/Analise_Current/HighValuesForPolygons/Assentamento_HighValue_bySUMBYAREA.shp',\n",
    "                  clipping_geometry = \"ClippingGeometry\",maintain_clipping_extent = 'MAINTAIN_EXTENT')"
   ]
  },
  {
   "cell_type": "code",
   "execution_count": 31,
   "metadata": {},
   "outputs": [],
   "source": [
    "#Export Table\n",
    "import arcpy as ap\n",
    "\n",
    "inTable = [\"Brasil_coverage_2021_Assentamento_HighValue_ByArea.tif\",\"Brasil_coverage_2021_CAR_HighValue_ByArea.tif\",\"Brasil_coverage_2021_FloraNaoDestinada_HighValue_ByArea.tif\",\"Brasil_coverage_2021_SIGEF_HighValue_ByArea.tif\",\"Brasil_coverage_2021_SNUC_ProtInt_HighValue_ByArea.tif\",\n",
    "          \"Brasil_coverage_2021_SNUC_UsoSus_HighValue_ByArea.tif\",\"Brasil_coverage_2021_TI_HighValue_ByArea.tif\"]\n",
    "\n",
    "name_tables = [\"UsoSolo_2021_Assentamento_By_SUM_ByArea.csv\",\"UsoSolo_2021_CAR_By_SUM_ByArea.csv\",\"UsoSolo_2021_FloraNaoDestinada_By_SUM_ByArea.csv\",\"UsoSolo_2021_SIGEF_By_SUM_ByArea.csv\",\n",
    "               \"UsoSolo_2021_SNUC_ProtecaoIntegral_By_SUM_ByArea.csv\",\"UsoSolo_2021_SNUC_UsoSustentavel_By_SUM_ByArea.csv\",\"UsoSolo_2021_TIHomolog_By_SUM_ByArea.csv\"]\n",
    "for i in range(len(inTable)):\n",
    "    ap.conversion.ExportTable(inTable[i], \"C:/Users/napcc/Dropbox (CPI)/EduardoMinsky/Analise_TellesPires/Analise_Current/HighValuesForPolygons/Analise_UsoDoSolo/BySUM_Area/Tables/\"+name_tables[i])\n"
   ]
  },
  {
   "cell_type": "markdown",
   "metadata": {},
   "source": [
    "# Analise dos poligonos com os dados do MapBiomes Alertas"
   ]
  },
  {
   "cell_type": "code",
   "execution_count": 38,
   "metadata": {},
   "outputs": [],
   "source": [
    "#Pairwise clip dos poligonos de protecao com MapBiomes Alertas\n",
    "\n",
    "import arcpy as ap\n",
    "mascara=[\"TIHomolog_HighValue_bySUMBYAREA\",\"SNUC_UsoSUS_HighValue_bySUMBYAREA\",\"SNUC_ProtInt_HighValue_bySUMBYAREA\",\"SIGEF_HighValue_bySUMBYAREA\",\"Flora_Nao_Destinada_HighValue_bySUMBYAREA\",\n",
    "          \"CAR_HighValue_by_SUMBYAREA\",\"Assentamento_HighValue_bySUMBYAREA\"]\n",
    "features = 'Alertas_MapBiomes_19_23'\n",
    "feature_salvo = [\"_Alertas.shp\",\"_Alertas.shp\",\"_Alertas.shp\",\"_Alertas.shp\",\"_Alertas.shp\",\"_Alertas.shp\",\"_Alertas.shp\"]\n",
    "#path_shp = 'C:/Users/napcc/Dropbox (CPI)/EduardoMinsky/Analise_TellesPires/Analise_Current/HighValuesForPolygons/'\n",
    "path_salvar='C:/Users/napcc/Dropbox (CPI)/EduardoMinsky/Analise_TellesPires/Analise_Current/HighValuesForPolygons/Analise_AlertasMapBiomes/BySUM_Area/'\n",
    "for i in range(len(mascara)):\n",
    "    ap.analysis.PairwiseClip(in_features = features , clip_features = mascara[i], out_feature_class = path_salvar+mascara[i]+feature_salvo[i])"
   ]
  },
  {
   "cell_type": "code",
   "execution_count": 6,
   "metadata": {},
   "outputs": [],
   "source": [
    "#Criando Field em cada shapefile de Parwise e Calculando área\n",
    "import arcpy as ap\n",
    "path_pairwise = 'C:/Users/napcc/Dropbox (CPI)/EduardoMinsky/Analise_TellesPires/Analise_Current/HighValuesForPolygons/Analise_AlertasMapBiomes/BySUM_Area/'\n",
    "arquivosNames = ['Assentamento_HighValue_bySUMBYAREA_Alertas.shp','CAR_HighValue_by_SUMBYAREA_Alertas.shp','Flora_Nao_Destinada_HighValue_bySUMBYAREA_Alertas.shp','SIGEF_HighValue_bySUMBYAREA_Alertas.shp',\n",
    "                 'SNUC_ProtInt_HighValue_bySUMBYAREA_Alertas.shp','SNUC_UsoSUS_HighValue_bySUMBYAREA_Alertas.shp','TIHomolog_HighValue_bySUMBYAREA_Alertas.shp']\n",
    "for i in range(len(arquivosNames)):\n",
    "    arcpy.AddField_management(path_pairwise+arquivosNames[i],\"area\",\"Double\")\n",
    "\n",
    "expression1 = \"{0}\".format(\"!SHAPE.area@SQUAREKILOMETERS!\")        \n",
    "for i in range(len(arquivosNames)):\n",
    "    arcpy.CalculateField_management(path_pairwise+arquivosNames[i], \"area\", expression1, \"PYTHON3\", )"
   ]
  },
  {
   "cell_type": "code",
   "execution_count": 9,
   "metadata": {},
   "outputs": [],
   "source": [
    "#Salvando esses tables do pairwise\n",
    "\n",
    "import arcpy as ap\n",
    "\n",
    "inTable = ['Assentamento_HighValue_bySUMBYAREA_Alertas.shp','CAR_HighValue_bySUMBYAREA_Alertas.shp','Flora_Nao_Destinada_HighValue_bySUMBYAREA_Alertas.shp','SIGEF_HighValue_bySUMBYAREA_Alertas.shp',\n",
    "                 'SNUC_ProtInt_HighValue_bySUMBYAREA_Alertas.shp','SNUC_UsoSUS_HighValue_bySUMBYAREA_Alertas.shp','TIHomolog_HighValue_bySUMBYAREA_Alertas.shp']\n",
    "\n",
    "name_tables =  [\"Assentamento_HighValue_bySUMBYAREA_Alertas.csv\",\"CAR_HighValue_bySUMBYAREA_Alertas.csv\",\"Flora_Nao_Destinada_HighValue_bySUMBYAREA_Alertas.csv\",\"SIGEF_HighValue_bySUMBYAREA_Alertas.csv\",\"SNUC_ProtInt_HighValue_bySUMBYAREA_Alertas.csv\",\n",
    "          \"SNUC_UsoSUS_HighValue_bySUMBYAREA_Alertas.csv\",\"TIHomolog_HighValue_bySUMBYAREA_Alertas.csv\"]\n",
    "for i in range(len(inTable)):\n",
    "    ap.conversion.ExportTable(inTable[i], \"C:/Users/napcc/Dropbox (CPI)/EduardoMinsky/Analise_TellesPires/Analise_Current/HighValuesForPolygons/Analise_AlertasMapBiomes/BySUM_Area/Table/\"+name_tables[i])\n"
   ]
  },
  {
   "cell_type": "markdown",
   "metadata": {},
   "source": [
    "# Analise do desmatamento anual do INPE com a malha"
   ]
  },
  {
   "cell_type": "code",
   "execution_count": 11,
   "metadata": {},
   "outputs": [],
   "source": [
    "#Pairwise clip dos poligonos de protecao com MapBiomes Alertas\n",
    "\n",
    "import arcpy as ap\n",
    "mascara=[\"TIHomolog_HighValue_bySUMBYAREA\",\"SNUC_UsoSUS_HighValue_bySUMBYAREA\",\"SNUC_ProtInt_HighValue_bySUMBYAREA\",\"SIGEF_HighValue_bySUMBYAREA\",\"Flora_Nao_Destinada_HighValue_bySUMBYAREA\",\n",
    "          \"CAR_HighValue_by_SUMBYAREA\",\"Assentamento_HighValue_bySUMBYAREA\"]\n",
    "features = 'yearly_deforestation'\n",
    "feature_salvo = [\"_PRODES.shp\",\"_PRODES.shp\",\"_PRODES.shp\",\"_PRODES.shp\",\"_PRODES.shp\",\"_PRODES.shp\",\"_PRODES.shp\"]\n",
    "\n",
    "path_salvar='C:/Users/napcc/Dropbox (CPI)/EduardoMinsky/Analise_TellesPires/Analise_Current/HighValuesForPolygons/Analise_PRODES/BySUM_Area/'\n",
    "for i in range(len(mascara)):\n",
    "    ap.analysis.PairwiseClip(in_features = features , clip_features = mascara[i], out_feature_class = path_salvar+mascara[i]+feature_salvo[i])"
   ]
  },
  {
   "cell_type": "code",
   "execution_count": 13,
   "metadata": {},
   "outputs": [],
   "source": [
    "#Pairwise clip dos poligonos de protecao com MapBiomes Alertas\n",
    "\n",
    "import arcpy as ap\n",
    "mascara=[\"TIHomolog_HighValue_bySUM\",\"SNUC_UsoSUS_HighValue_bySUM\",\"SNUC_ProtInt_HighValue_bySUM\",\"SIGEF_HighValue_bySUM\",\"Flora_Nao_Destinada_HighValue_bySUM\",\n",
    "          \"CAR_HighValue_bySUM\",\"Assentamento_HighValue_bySUM\"]\n",
    "features = 'yearly_deforestation'\n",
    "feature_salvo = [\"_PRODES.shp\",\"_PRODES.shp\",\"_PRODES.shp\",\"_PRODES.shp\",\"_PRODES.shp\",\"_PRODES.shp\",\"_PRODES.shp\"]\n",
    "\n",
    "path_salvar='C:/Users/napcc/Dropbox (CPI)/EduardoMinsky/Analise_TellesPires/Analise_Current/HighValuesForPolygons/Analise_PRODES/BySUM/'\n",
    "for i in range(len(mascara)):\n",
    "    ap.analysis.PairwiseClip(in_features = features , clip_features = mascara[i], out_feature_class = path_salvar+mascara[i]+feature_salvo[i])"
   ]
  },
  {
   "cell_type": "code",
   "execution_count": 14,
   "metadata": {},
   "outputs": [],
   "source": [
    "#Criando Field em cada shapefile de Parwise e Calculando área\n",
    "import arcpy as ap\n",
    "path_pairwise = 'C:/Users/napcc/Dropbox (CPI)/EduardoMinsky/Analise_TellesPires/Analise_Current/HighValuesForPolygons/Analise_PRODES/BySUM/'\n",
    "arquivosNames = ['Assentamento_HighValue_bySUM_PRODES.shp','CAR_HighValue_bySUM_PRODES.shp','Flora_Nao_Destinada_HighValue_bySUM_PRODES.shp','SIGEF_HighValue_bySUM_PRODES.shp',\n",
    "                 'SNUC_ProtInt_HighValue_bySUM_PRODES.shp','SNUC_UsoSUS_HighValue_bySUM_PRODES.shp','TIHomolog_HighValue_bySUM_PRODES.shp']\n",
    "for i in range(len(arquivosNames)):\n",
    "    arcpy.AddField_management(path_pairwise+arquivosNames[i],\"area\",\"Double\")\n",
    "\n",
    "expression1 = \"{0}\".format(\"!SHAPE.area@SQUAREKILOMETERS!\")        \n",
    "for i in range(len(arquivosNames)):\n",
    "    arcpy.CalculateField_management(path_pairwise+arquivosNames[i], \"area\", expression1, \"PYTHON3\", )"
   ]
  },
  {
   "cell_type": "code",
   "execution_count": 15,
   "metadata": {},
   "outputs": [],
   "source": [
    "#Criando Field em cada shapefile de Parwise e Calculando área\n",
    "import arcpy as ap\n",
    "path_pairwise = 'C:/Users/napcc/Dropbox (CPI)/EduardoMinsky/Analise_TellesPires/Analise_Current/HighValuesForPolygons/Analise_PRODES/BySUM_Area/'\n",
    "arquivosNames = ['Assentamento_HighValue_bySUMBYAREA_PRODES.shp','CAR_HighValue_by_SUMBYAREA_PRODES.shp','Flora_Nao_Destinada_HighValue_bySUMBYAREA_PRODES.shp','SIGEF_HighValue_bySUMBYAREA_PRODES.shp',\n",
    "                 'SNUC_ProtInt_HighValue_bySUMBYAREA_PRODES.shp','SNUC_UsoSUS_HighValue_bySUMBYAREA_PRODES.shp','TIHomolog_HighValue_bySUMBYAREA_PRODES.shp']\n",
    "for i in range(len(arquivosNames)):\n",
    "    arcpy.AddField_management(path_pairwise+arquivosNames[i],\"area\",\"Double\")\n",
    "\n",
    "expression1 = \"{0}\".format(\"!SHAPE.area@SQUAREKILOMETERS!\")        \n",
    "for i in range(len(arquivosNames)):\n",
    "    arcpy.CalculateField_management(path_pairwise+arquivosNames[i], \"area\", expression1, \"PYTHON3\", )"
   ]
  },
  {
   "cell_type": "code",
   "execution_count": 17,
   "metadata": {},
   "outputs": [],
   "source": [
    "#Salvando esses tables do pairwise\n",
    "\n",
    "import arcpy as ap\n",
    "\n",
    "inTable = ['Assentamento_HighValue_bySUMBYAREA_PRODES.shp','CAR_HighValue_by_SUMBYAREA_PRODES.shp','Flora_Nao_Destinada_HighValue_bySUMBYAREA_PRODES.shp','SIGEF_HighValue_bySUMBYAREA_PRODES.shp',\n",
    "                 'SNUC_ProtInt_HighValue_bySUMBYAREA_PRODES.shp','SNUC_UsoSUS_HighValue_bySUMBYAREA_PRODES.shp','TIHomolog_HighValue_bySUMBYAREA_PRODES.shp']\n",
    "\n",
    "name_tables =  ['Assentamento_HighValue_bySUMBYAREA_PRODES.csv','CAR_HighValue_by_SUMBYAREA_PRODES.csv','Flora_Nao_Destinada_HighValue_bySUMBYAREA_PRODES.csv','SIGEF_HighValue_bySUMBYAREA_PRODES.csv',\n",
    "                 'SNUC_ProtInt_HighValue_bySUMBYAREA_PRODES.csv','SNUC_UsoSUS_HighValue_bySUMBYAREA_PRODES.csv','TIHomolog_HighValue_bySUMBYAREA_PRODES.csv']\n",
    "for i in range(len(inTable)):\n",
    "    ap.conversion.ExportTable(inTable[i], \"C:/Users/napcc/Dropbox (CPI)/EduardoMinsky/Analise_TellesPires/Analise_Current/HighValuesForPolygons/Analise_PRODES/BySUM_Area/Tables/\"+name_tables[i])\n"
   ]
  }
 ],
 "metadata": {
  "kernelspec": {
   "display_name": "ArcGISPro",
   "language": "Python",
   "name": "python3"
  },
  "language_info": {
   "file_extension": ".py",
   "name": "python",
   "version": "3"
  }
 },
 "nbformat": 4,
 "nbformat_minor": 2
}
