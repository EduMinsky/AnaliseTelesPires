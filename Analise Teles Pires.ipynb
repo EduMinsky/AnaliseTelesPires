{
 "cells": [
  {
   "cell_type": "markdown",
   "id": "11a8a766",
   "metadata": {},
   "source": [
    "### Neste script vamos analisar os dados de malha fundiária mais importantes para a Hidreletrica de Teles Pires"
   ]
  },
  {
   "cell_type": "markdown",
   "id": "f437f1f2",
   "metadata": {},
   "source": [
    "Vamos analisar os grandes números para Teles Pires  \n",
    "Primeiro vamos ler os dados"
   ]
  },
  {
   "cell_type": "code",
   "execution_count": 1,
   "id": "55bc17c9",
   "metadata": {},
   "outputs": [],
   "source": [
    "#Importando pacotes\n",
    "import pandas as pd\n",
    "import numpy as np\n",
    "import glob\n",
    "from itables import show\n",
    "import jenkspy"
   ]
  },
  {
   "cell_type": "code",
   "execution_count": 2,
   "id": "18bb5aa6",
   "metadata": {
    "scrolled": true
   },
   "outputs": [
    {
     "data": {
      "text/plain": [
       "['C:/Users/User/Dropbox (CPI)/EduardoMinsky/Analise_TellesPires/Analise_Current/FeaturesTable\\\\Assentamentos_SumOfValues_featureTable.csv',\n",
       " 'C:/Users/User/Dropbox (CPI)/EduardoMinsky/Analise_TellesPires/Analise_Current/FeaturesTable\\\\CAR_SumOfValues_featureTable.csv',\n",
       " 'C:/Users/User/Dropbox (CPI)/EduardoMinsky/Analise_TellesPires/Analise_Current/FeaturesTable\\\\FloraNaoDest_SumOfValues_featureTable.csv',\n",
       " 'C:/Users/User/Dropbox (CPI)/EduardoMinsky/Analise_TellesPires/Analise_Current/FeaturesTable\\\\Sigef_SumOfValues_featureTable.csv',\n",
       " 'C:/Users/User/Dropbox (CPI)/EduardoMinsky/Analise_TellesPires/Analise_Current/FeaturesTable\\\\SNUCProtInt_SumOfValues_featureTable.csv',\n",
       " 'C:/Users/User/Dropbox (CPI)/EduardoMinsky/Analise_TellesPires/Analise_Current/FeaturesTable\\\\SNUCUsoSUS_SumOfValues_featureTable.csv',\n",
       " 'C:/Users/User/Dropbox (CPI)/EduardoMinsky/Analise_TellesPires/Analise_Current/FeaturesTable\\\\TIHomolog_SumOfValues_featureTable.csv']"
      ]
     },
     "execution_count": 2,
     "metadata": {},
     "output_type": "execute_result"
    }
   ],
   "source": [
    "#Definindo nome de arquivos e diretórios:\n",
    "dir_tables = 'C:/Users/User/Dropbox (CPI)/EduardoMinsky/Analise_TellesPires/Analise_Current/FeaturesTable/'\n",
    "\n",
    "my_list_files = glob.glob(dir_tables+'*.csv')\n",
    "\n",
    "malha = ['assentamento','CAR','FloraNaoDest','SIGEF','ProtInt','UsoSus','TI']\n",
    "my_list_files"
   ]
  },
  {
   "cell_type": "code",
   "execution_count": 3,
   "id": "995339bb",
   "metadata": {},
   "outputs": [],
   "source": [
    "#Lendo os arquivos, alimentando  a lista de DFs e criando uma coluna com que tipo de malha é\n",
    "\n",
    "pd_list = []\n",
    "for i in range(len(my_list_files)):\n",
    "    a = pd.read_csv(my_list_files[i],sep = ';')\n",
    "    a['Malha'] = malha[i]\n",
    "    pd_list.append(a)\n",
    "\n",
    "\n"
   ]
  },
  {
   "cell_type": "markdown",
   "id": "b678c755",
   "metadata": {},
   "source": [
    "## Agora vamos calcular os grandes números para cada malha fundiária!  \n",
    "Nós sabemos que a analise de Teles Pires possui 66.846.626,00 milhões de dolares."
   ]
  },
  {
   "cell_type": "code",
   "execution_count": 4,
   "id": "1bda9977",
   "metadata": {},
   "outputs": [],
   "source": [
    "#Vamos passar a coluna de área para number. Estava string\n",
    "pd_list[0]['AssentSum'] = pd_list[0]['AssentSum'].str.replace(',','.').astype('float')\n",
    "pd_list[1]['CAR_Sum'] = pd_list[1]['CAR_Sum'].str.replace(',','.').astype('float')\n",
    "pd_list[2]['FloraNDest'] = pd_list[2]['FloraNDest'].str.replace(',','.').astype('float')\n",
    "pd_list[3]['SigefSum'] = pd_list[3]['SigefSum'].str.replace(',','.').astype('float')\n",
    "pd_list[4]['ProtIntSum'] = pd_list[4]['ProtIntSum'].str.replace(',','.').astype('float')\n",
    "pd_list[5]['Sus_Sum'] = pd_list[5]['Sus_Sum'].str.replace(',','.').astype('float')\n",
    "pd_list[6]['TI_Sum'] = pd_list[6]['TI_Sum'].str.replace(',','.').astype('float')\n",
    "\n",
    "\n",
    "#Vamos passar a coluna de geometria para number. Estava string\n",
    "pd_list[0]['area_geom'] = pd_list[0]['area_geom'].str.replace(',','.').astype('float')\n",
    "pd_list[1]['area_geom'] = pd_list[1]['area_geom'].str.replace(',','.').astype('float')\n",
    "pd_list[2]['area_geom'] = pd_list[2]['area_geom'].str.replace(',','.').astype('float')\n",
    "pd_list[3]['area_geom'] = pd_list[3]['area_geom'].str.replace(',','.').astype('float')\n",
    "pd_list[4]['area_geom'] = pd_list[4]['area_geom'].str.replace(',','.').astype('float')\n",
    "pd_list[5]['area_geom'] = pd_list[5]['area_geom'].str.replace(',','.').astype('float')\n",
    "pd_list[6]['area_geom'] = pd_list[6]['area_geom'].str.replace(',','.').astype('float')\n",
    "\n",
    "#Vamos passar a coluna de Soma dividida pela geometria para number tbm\n",
    "pd_list[0]['sum_Area'] = pd_list[0]['sum_Area'].str.replace(',','.').astype('float')\n",
    "pd_list[1]['sum_Area'] = pd_list[1]['sum_Area'].str.replace(',','.').astype('float')\n",
    "pd_list[2]['sum_Area'] = pd_list[2]['sum_Area'].str.replace(',','.').astype('float')\n",
    "pd_list[3]['sum_Area'] = pd_list[3]['sum_Area'].str.replace(',','.').astype('float')\n",
    "pd_list[4]['sum_Area'] = pd_list[4]['sum_Area'].str.replace(',','.').astype('float')\n",
    "pd_list[5]['sum_Area'] = pd_list[5]['sum_Area'].str.replace(',','.').astype('float')\n",
    "pd_list[6]['sum_Area'] = pd_list[6]['sum_Area'].str.replace(',','.').astype('float')"
   ]
  },
  {
   "cell_type": "code",
   "execution_count": 5,
   "id": "4c455acf",
   "metadata": {},
   "outputs": [
    {
     "data": {
      "text/plain": [
       "[35040.151534712975,\n",
       " 8727.290677515366,\n",
       " 354988.4136358575,\n",
       " 307672.4808978155,\n",
       " 266771.90703648794,\n",
       " 460342.03222674434,\n",
       " 364755.79044779186]"
      ]
     },
     "execution_count": 5,
     "metadata": {},
     "output_type": "execute_result"
    }
   ],
   "source": [
    "#Vamos agora calcular o valor de soma das áreas e criar uma coluna para dividir pela total de Teles Pires\n",
    "lista_colunas = ['AssentSum','CAR_Sum','FloraNDest','SigefSum','ProtIntSum','Sus_Sum','TI_Sum']\n",
    "Assentamento_soma = pd_list[0][lista_colunas[0]].sum()\n",
    "Car_soma = pd_list[1][lista_colunas[1]].sum()\n",
    "FloraNDest =  pd_list[2][lista_colunas[2]].sum()\n",
    "SigefSum =  pd_list[3][lista_colunas[3]].sum()\n",
    "ProtInt = pd_list[4][lista_colunas[4]].sum()\n",
    "SusSum = pd_list[5][lista_colunas[5]].sum()\n",
    "TIsum = pd_list[6][lista_colunas[6]].sum()\n",
    "lista_valores = [Assentamento_soma,Car_soma,FloraNDest,SigefSum,ProtInt,SusSum,TIsum]\n",
    "\n",
    "#Pegando o numero de observaçoes para cada classe fundiária\n",
    "lista_linhas = [pd_list[0].shape[0],pd_list[1].shape[0],pd_list[2].shape[0],pd_list[3].shape[0],pd_list[4].shape[0],pd_list[5].shape[0],pd_list[6].shape[0]]\n",
    "\n",
    "#criando lista com o valor de área da geometria das malhas:\n",
    "lista_geometria_area = [pd_list[0].area_geom.sum(),pd_list[1].area_geom.sum(),\n",
    "                        pd_list[2].area_geom.sum(),pd_list[3].area_geom.sum(),\n",
    "                        pd_list[4].area_geom.sum(),pd_list[5].area_geom.sum(),pd_list[6].area_geom.sum()]\n",
    "\n",
    "lista_geometria_area"
   ]
  },
  {
   "cell_type": "code",
   "execution_count": 6,
   "id": "f900b2fe",
   "metadata": {},
   "outputs": [
    {
     "data": {
      "text/html": [
       "<div>\n",
       "<style scoped>\n",
       "    .dataframe tbody tr th:only-of-type {\n",
       "        vertical-align: middle;\n",
       "    }\n",
       "\n",
       "    .dataframe tbody tr th {\n",
       "        vertical-align: top;\n",
       "    }\n",
       "\n",
       "    .dataframe thead th {\n",
       "        text-align: right;\n",
       "    }\n",
       "</style>\n",
       "<table border=\"1\" class=\"dataframe\">\n",
       "  <thead>\n",
       "    <tr style=\"text-align: right;\">\n",
       "      <th></th>\n",
       "      <th>Tipo de Malha</th>\n",
       "      <th>Número de Propriedades</th>\n",
       "      <th>Soma, em Dolar, de importancia da Malha Fundiaria</th>\n",
       "      <th>Area da Malha</th>\n",
       "      <th>Porcentagem - Soma Por Total</th>\n",
       "      <th>Proporção - Soma Por Area da Malha</th>\n",
       "      <th>Proporção - Soma por Nº Propriedade</th>\n",
       "    </tr>\n",
       "  </thead>\n",
       "  <tbody>\n",
       "    <tr>\n",
       "      <th>3</th>\n",
       "      <td>SigefSum</td>\n",
       "      <td>5330</td>\n",
       "      <td>15740286.0</td>\n",
       "      <td>307672.480898</td>\n",
       "      <td>23.546867</td>\n",
       "      <td>51.159226</td>\n",
       "      <td>2953.149343</td>\n",
       "    </tr>\n",
       "    <tr>\n",
       "      <th>6</th>\n",
       "      <td>TI_Sum</td>\n",
       "      <td>49</td>\n",
       "      <td>15425792.0</td>\n",
       "      <td>364755.790448</td>\n",
       "      <td>23.076396</td>\n",
       "      <td>42.290739</td>\n",
       "      <td>314812.081633</td>\n",
       "    </tr>\n",
       "    <tr>\n",
       "      <th>2</th>\n",
       "      <td>FloraNDest</td>\n",
       "      <td>644</td>\n",
       "      <td>13478991.0</td>\n",
       "      <td>354988.413636</td>\n",
       "      <td>20.164056</td>\n",
       "      <td>37.970228</td>\n",
       "      <td>20930.110248</td>\n",
       "    </tr>\n",
       "    <tr>\n",
       "      <th>5</th>\n",
       "      <td>Sus_Sum</td>\n",
       "      <td>70</td>\n",
       "      <td>8026222.0</td>\n",
       "      <td>460342.032227</td>\n",
       "      <td>12.006922</td>\n",
       "      <td>17.435345</td>\n",
       "      <td>114660.314286</td>\n",
       "    </tr>\n",
       "    <tr>\n",
       "      <th>4</th>\n",
       "      <td>ProtIntSum</td>\n",
       "      <td>31</td>\n",
       "      <td>4550257.0</td>\n",
       "      <td>266771.907036</td>\n",
       "      <td>6.807011</td>\n",
       "      <td>17.056732</td>\n",
       "      <td>146782.483871</td>\n",
       "    </tr>\n",
       "    <tr>\n",
       "      <th>1</th>\n",
       "      <td>CAR_Sum</td>\n",
       "      <td>1527</td>\n",
       "      <td>2560918.0</td>\n",
       "      <td>8727.290678</td>\n",
       "      <td>3.831036</td>\n",
       "      <td>293.437917</td>\n",
       "      <td>1677.091028</td>\n",
       "    </tr>\n",
       "    <tr>\n",
       "      <th>0</th>\n",
       "      <td>AssentSum</td>\n",
       "      <td>259</td>\n",
       "      <td>667455.0</td>\n",
       "      <td>35040.151535</td>\n",
       "      <td>0.998487</td>\n",
       "      <td>19.048291</td>\n",
       "      <td>2577.046332</td>\n",
       "    </tr>\n",
       "  </tbody>\n",
       "</table>\n",
       "</div>"
      ],
      "text/plain": [
       "  Tipo de Malha  Número de Propriedades  \\\n",
       "3      SigefSum                    5330   \n",
       "6        TI_Sum                      49   \n",
       "2    FloraNDest                     644   \n",
       "5       Sus_Sum                      70   \n",
       "4    ProtIntSum                      31   \n",
       "1       CAR_Sum                    1527   \n",
       "0     AssentSum                     259   \n",
       "\n",
       "   Soma, em Dolar, de importancia da Malha Fundiaria  Area da Malha  \\\n",
       "3                                         15740286.0  307672.480898   \n",
       "6                                         15425792.0  364755.790448   \n",
       "2                                         13478991.0  354988.413636   \n",
       "5                                          8026222.0  460342.032227   \n",
       "4                                          4550257.0  266771.907036   \n",
       "1                                          2560918.0    8727.290678   \n",
       "0                                           667455.0   35040.151535   \n",
       "\n",
       "   Porcentagem - Soma Por Total  Proporção - Soma Por Area da Malha  \\\n",
       "3                     23.546867                           51.159226   \n",
       "6                     23.076396                           42.290739   \n",
       "2                     20.164056                           37.970228   \n",
       "5                     12.006922                           17.435345   \n",
       "4                      6.807011                           17.056732   \n",
       "1                      3.831036                          293.437917   \n",
       "0                      0.998487                           19.048291   \n",
       "\n",
       "   Proporção - Soma por Nº Propriedade  \n",
       "3                          2953.149343  \n",
       "6                        314812.081633  \n",
       "2                         20930.110248  \n",
       "5                        114660.314286  \n",
       "4                        146782.483871  \n",
       "1                          1677.091028  \n",
       "0                          2577.046332  "
      ]
     },
     "execution_count": 6,
     "metadata": {},
     "output_type": "execute_result"
    }
   ],
   "source": [
    "#criando um data frame com esses valores:\n",
    "df_soma_malha = pd.DataFrame({'Tipo de Malha':lista_colunas,'Número de Propriedades':lista_linhas,'Soma, em Dolar, de importancia da Malha Fundiaria':lista_valores,\n",
    "                             'Area da Malha':lista_geometria_area})\n",
    "df_soma_malha['Porcentagem - Soma Por Total'] = (df_soma_malha['Soma, em Dolar, de importancia da Malha Fundiaria']/66846626)*100\n",
    "df_soma_malha['Proporção - Soma Por Area da Malha'] =(df_soma_malha['Soma, em Dolar, de importancia da Malha Fundiaria']/df_soma_malha['Area da Malha'])\n",
    "df_soma_malha['Proporção - Soma por Nº Propriedade'] = (df_soma_malha['Soma, em Dolar, de importancia da Malha Fundiaria'] / df_soma_malha['Número de Propriedades'])\n",
    "df_soma_malha\n",
    "df_soma_malha_order = df_soma_malha[['Tipo de Malha', 'Número de Propriedades', 'Soma, em Dolar, de importancia da Malha Fundiaria', \n",
    "                                     'Area da Malha','Porcentagem - Soma Por Total','Proporção - Soma Por Area da Malha','Proporção - Soma por Nº Propriedade']]\n",
    "df_soma_malha_order.sort_values(by='Soma, em Dolar, de importancia da Malha Fundiaria',ascending=False)"
   ]
  },
  {
   "cell_type": "code",
   "execution_count": 7,
   "id": "43826505",
   "metadata": {},
   "outputs": [
    {
     "data": {
      "text/html": [
       "<style>.itables table td {\n",
       "    text-overflow: ellipsis;\n",
       "    overflow: hidden;\n",
       "}\n",
       "\n",
       ".itables table th {\n",
       "    text-overflow: ellipsis;\n",
       "    overflow: hidden;\n",
       "}\n",
       "\n",
       ".itables thead input {\n",
       "    width: 100%;\n",
       "    padding: 3px;\n",
       "    box-sizing: border-box;\n",
       "}\n",
       "\n",
       ".itables tfoot input {\n",
       "    width: 100%;\n",
       "    padding: 3px;\n",
       "    box-sizing: border-box;\n",
       "}\n",
       "</style>\n",
       "<div class=\"itables\">\n",
       "<table id=\"520fcbdb-91db-4451-9dd8-aeaffd5e095e\" class=\"display nowrap\"style=\"table-layout:auto;width:auto;margin:auto;caption-side:bottom\"><thead>\n",
       "    <tr style=\"text-align: right;\">\n",
       "      <th></th>\n",
       "      <th>Tipo de Malha</th>\n",
       "      <th>Número de Propriedades</th>\n",
       "      <th>Soma, em Dolar, de importancia da Malha Fundiaria</th>\n",
       "      <th>Area da Malha</th>\n",
       "      <th>Porcentagem - Soma Por Total</th>\n",
       "      <th>Proporção - Soma Por Area da Malha</th>\n",
       "      <th>Proporção - Soma por Nº Propriedade</th>\n",
       "    </tr>\n",
       "  </thead><tbody><tr><td>Loading... (need <a href=https://mwouts.github.io/itables/troubleshooting.html>help</a>?)</td></tr></tbody></table>\n",
       "<link rel=\"stylesheet\" type=\"text/css\" href=\"https://cdn.datatables.net/1.13.1/css/jquery.dataTables.min.css\">\n",
       "<script type=\"module\">\n",
       "    // Import jquery and DataTable\n",
       "    import 'https://code.jquery.com/jquery-3.6.0.min.js';\n",
       "    import dt from 'https://cdn.datatables.net/1.12.1/js/jquery.dataTables.mjs';\n",
       "    dt($);\n",
       "\n",
       "    // Define the table data\n",
       "    const data = [[3, \"SigefSum\", 5330, 15740286.0, 307672.480898, 23.546867, 51.159226, 2953.149343], [6, \"TI_Sum\", 49, 15425792.0, 364755.790448, 23.076396, 42.290739, 314812.081633], [2, \"FloraNDest\", 644, 13478991.0, 354988.413636, 20.164056, 37.970228, 20930.110248], [5, \"Sus_Sum\", 70, 8026222.0, 460342.032227, 12.006922, 17.435345, 114660.314286], [4, \"ProtIntSum\", 31, 4550257.0, 266771.907036, 6.807011, 17.056732, 146782.483871], [1, \"CAR_Sum\", 1527, 2560918.0, 8727.290678, 3.831036, 293.437917, 1677.091028], [0, \"AssentSum\", 259, 667455.0, 35040.151535, 0.998487, 19.048291, 2577.046332]];\n",
       "\n",
       "    // Define the dt_args\n",
       "    let dt_args = {\"order\": [], \"dom\": \"t\"};\n",
       "    dt_args[\"data\"] = data;\n",
       "\n",
       "    $(document).ready(function () {\n",
       "        \n",
       "        $('#520fcbdb-91db-4451-9dd8-aeaffd5e095e').DataTable(dt_args);\n",
       "    });\n",
       "</script>\n",
       "</div>\n"
      ],
      "text/plain": [
       "<IPython.core.display.HTML object>"
      ]
     },
     "metadata": {},
     "output_type": "display_data"
    }
   ],
   "source": [
    "show(df_soma_malha_order.sort_values(by='Soma, em Dolar, de importancia da Malha Fundiaria',ascending=False))"
   ]
  },
  {
   "cell_type": "markdown",
   "id": "00fcffaa",
   "metadata": {},
   "source": [
    "Podemos perceber que, em dolar, os imóveis cadastrados no SIGEF somam 15.740.286 de dolares de importância para Teles Pires o que representa 23.5% do valor total para Teles Pires. <br/><br/>\n",
    "Depois vem Terra Indigena com 15.425.792 de dolares de importância para Teles Pires, o que representa 23.07% para Teles Pires.<br/><br/>\n",
    "\n",
    "\n"
   ]
  },
  {
   "cell_type": "markdown",
   "id": "d8111772",
   "metadata": {},
   "source": [
    "### Selecionando agora os top imoveis baseado na soma e soma de área"
   ]
  },
  {
   "cell_type": "code",
   "execution_count": 8,
   "id": "25e2a882",
   "metadata": {},
   "outputs": [
    {
     "name": "stdout",
     "output_type": "stream",
     "text": [
      "Requirement already satisfied: jenkspy in c:\\users\\user\\appdata\\local\\programs\\arcgis\\pro\\bin\\python\\envs\\arcgispro-py3\\lib\\site-packages (0.3.3)\n",
      "Requirement already satisfied: numpy in c:\\users\\user\\appdata\\local\\programs\\arcgis\\pro\\bin\\python\\envs\\arcgispro-py3\\lib\\site-packages (from jenkspy) (1.20.1)\n"
     ]
    }
   ],
   "source": [
    "#Instalando pacote:\n",
    "!pip install jenkspy"
   ]
  },
  {
   "cell_type": "markdown",
   "id": "b582e76f",
   "metadata": {},
   "source": [
    "Primeiro para área"
   ]
  },
  {
   "cell_type": "code",
   "execution_count": 9,
   "id": "669aa6b7",
   "metadata": {},
   "outputs": [],
   "source": [
    "#Criando as quebras para cada malha fundiária\n",
    "jenks_assentamento = jenkspy.jenks_breaks(pd_list[0]['AssentSum'], n_classes=5)\n",
    "\n",
    "jenks_CAR = jenkspy.jenks_breaks(pd_list[1]['CAR_Sum'], n_classes=5)\n",
    "\n",
    "jenks_FloraNaoDest = jenkspy.jenks_breaks(pd_list[2]['FloraNDest'], n_classes=5)\n",
    "\n",
    "jenks_Sigef = jenkspy.jenks_breaks(pd_list[3]['SigefSum'], n_classes=5)\n",
    "\n",
    "jenks_ProtInt = jenkspy.jenks_breaks(pd_list[4]['ProtIntSum'], n_classes=5)\n",
    "\n",
    "jenks_SusSum = jenkspy.jenks_breaks(pd_list[5]['Sus_Sum'], n_classes=5)\n",
    "\n",
    "jenks_TI = jenkspy.jenks_breaks(pd_list[6]['TI_Sum'], n_classes=5)"
   ]
  },
  {
   "cell_type": "code",
   "execution_count": 10,
   "id": "bf3f6209",
   "metadata": {},
   "outputs": [],
   "source": [
    "#Criando coluna para cada dataframe sobre os Buckets referentes a cada jenks pela soma dos dolares\n",
    "coluna_name = ['AssentSum','CAR_Sum','FloraNDest','SigefSum','ProtIntSum','Sus_Sum','TI_Sum']\n",
    "jenks=[jenks_assentamento,jenks_CAR,jenks_FloraNaoDest,jenks_Sigef,jenks_ProtInt,jenks_SusSum,jenks_TI]\n",
    "for i in range(len(pd_list)):\n",
    "    pd_list[i]['cut_jenks']= pd.cut(pd_list[i][coluna_name[i]],\n",
    "                        bins=jenks[i],\n",
    "                        labels=['bucket_1', 'bucket_2', 'bucket_3', 'bucket_4', 'bucket_5'], include_lowest=True)\n",
    " \n"
   ]
  },
  {
   "cell_type": "code",
   "execution_count": 11,
   "id": "616968bf",
   "metadata": {},
   "outputs": [],
   "source": [
    "#Criando lista de dataframes ja filtrado com os jenks que queremos\n",
    "pd_list_jenks = []\n",
    "for i in range(len(pd_list)):\n",
    "    pd_list_jenks.append(pd_list[i].query('cut_jenks==\"bucket_4\" or cut_jenks==\"bucket_5\"'))\n",
    "\n"
   ]
  },
  {
   "cell_type": "code",
   "execution_count": 12,
   "id": "5c9d573b",
   "metadata": {},
   "outputs": [
    {
     "data": {
      "text/html": [
       "<style>.itables table td {\n",
       "    text-overflow: ellipsis;\n",
       "    overflow: hidden;\n",
       "}\n",
       "\n",
       ".itables table th {\n",
       "    text-overflow: ellipsis;\n",
       "    overflow: hidden;\n",
       "}\n",
       "\n",
       ".itables thead input {\n",
       "    width: 100%;\n",
       "    padding: 3px;\n",
       "    box-sizing: border-box;\n",
       "}\n",
       "\n",
       ".itables tfoot input {\n",
       "    width: 100%;\n",
       "    padding: 3px;\n",
       "    box-sizing: border-box;\n",
       "}\n",
       "</style>\n",
       "<div class=\"itables\">\n",
       "<table id=\"f8fed8c7-32f0-40fb-a24f-946e3c7b5e80\" class=\"display nowrap\"style=\"table-layout:auto;width:auto;margin:auto;caption-side:bottom\"><thead>\n",
       "    <tr style=\"text-align: right;\">\n",
       "      <th></th>\n",
       "      <th>Malha Fundiária</th>\n",
       "      <th>Numero de propriedades</th>\n",
       "      <th>Soma dos mais importantes</th>\n",
       "      <th>Soma de Área das Propriedades</th>\n",
       "      <th>Porcentagem do Total</th>\n",
       "      <th>Porcentagem do Total Da Malha Toda</th>\n",
       "      <th>Proporção - Soma Por Area da Malha</th>\n",
       "      <th>Proporção - Soma por Nº Propriedade</th>\n",
       "    </tr>\n",
       "  </thead><tbody><tr><td>Loading... (need <a href=https://mwouts.github.io/itables/troubleshooting.html>help</a>?)</td></tr></tbody></table>\n",
       "<link rel=\"stylesheet\" type=\"text/css\" href=\"https://cdn.datatables.net/1.13.1/css/jquery.dataTables.min.css\">\n",
       "<script type=\"module\">\n",
       "    // Import jquery and DataTable\n",
       "    import 'https://code.jquery.com/jquery-3.6.0.min.js';\n",
       "    import dt from 'https://cdn.datatables.net/1.12.1/js/jquery.dataTables.mjs';\n",
       "    dt($);\n",
       "\n",
       "    // Define the table data\n",
       "    const data = [[2, \"Flora N\\u00e3o Destinada\", 4, 8089371.0, 29876.329209, 12.10139, 60.014663, 270.761878, 2022343.0], [6, \"TI\", 2, 7464280.0, 82108.792435, 11.166278, 48.38831, 90.907195, 3732140.0], [5, \"SNUC_UsoSus\", 5, 4582269.0, 111136.8163, 6.854899, 57.091232, 41.230882, 916453.8], [4, \"SNUC_ProtInt\", 2, 2387703.0, 37153.506479, 3.571913, 52.474025, 64.265886, 1193852.0], [3, \"SIGEF\", 28, 1681474.0, 39121.508857, 2.515421, 10.682614, 42.980806, 60052.64], [1, \"CAR\", 151, 614478.0, 646.650681, 0.919236, 23.994443, 950.247201, 4069.391], [0, \"Assentamento\", 6, 148309.0, 4590.229949, 0.221865, 22.220075, 32.30971, 24718.17]];\n",
       "\n",
       "    // Define the dt_args\n",
       "    let dt_args = {\"order\": [], \"dom\": \"t\"};\n",
       "    dt_args[\"data\"] = data;\n",
       "\n",
       "    $(document).ready(function () {\n",
       "        \n",
       "        $('#f8fed8c7-32f0-40fb-a24f-946e3c7b5e80').DataTable(dt_args);\n",
       "    });\n",
       "</script>\n",
       "</div>\n"
      ],
      "text/plain": [
       "<IPython.core.display.HTML object>"
      ]
     },
     "metadata": {},
     "output_type": "display_data"
    }
   ],
   "source": [
    "#Formando o dataframe com as infos\n",
    "lista_colunas = ['AssentSum','CAR_Sum','FloraNDest','SigefSum','ProtIntSum','Sus_Sum','TI_Sum']\n",
    "lista_malha = ['Assentamento','CAR','Flora Não Destinada','SIGEF','SNUC_ProtInt','SNUC_UsoSus','TI']\n",
    "lista_numero_prop = [pd_list_jenks[0].shape[0],pd_list_jenks[1].shape[0],pd_list_jenks[2].shape[0]\n",
    "                     ,pd_list_jenks[3].shape[0],pd_list_jenks[4].shape[0],pd_list_jenks[5].shape[0],pd_list_jenks[6].shape[0]]\n",
    "lista_soma_ = [pd_list_jenks[0][lista_colunas[0]].sum(),pd_list_jenks[1][lista_colunas[1]].sum(),pd_list_jenks[2][lista_colunas[2]].sum(),\n",
    "              pd_list_jenks[3][lista_colunas[3]].sum(),pd_list_jenks[4][lista_colunas[4]].sum(),\n",
    "              pd_list_jenks[5][lista_colunas[5]].sum(),pd_list_jenks[6][lista_colunas[6]].sum()]\n",
    "\n",
    "lista_soma_area = [pd_list_jenks[0].area_geom.sum(),pd_list_jenks[1].area_geom.sum(),pd_list_jenks[2].area_geom.sum(),\n",
    "              pd_list_jenks[3].area_geom.sum(),pd_list_jenks[4].area_geom.sum(),\n",
    "              pd_list_jenks[5].area_geom.sum(),pd_list_jenks[6].area_geom.sum()]\n",
    "\n",
    "df_soma_jenks = pd.DataFrame({'Malha Fundiária':lista_malha,'Numero de propriedades':lista_numero_prop,'Soma dos mais importantes':lista_soma_,'Soma de Área das Propriedades':lista_soma_area})\n",
    "\n",
    "df_soma_jenks['Porcentagem do Total'] = (df_soma_jenks['Soma dos mais importantes'] / 66846626)*100\n",
    "df_soma_jenks['Porcentagem do Total Da Malha Toda'] = (df_soma_jenks['Soma dos mais importantes'] / df_soma_malha_order['Soma, em Dolar, de importancia da Malha Fundiaria'])*100\n",
    "df_soma_jenks['Proporção - Soma Por Area da Malha'] = df_soma_jenks['Soma dos mais importantes'] / df_soma_jenks['Soma de Área das Propriedades']\n",
    "df_soma_jenks['Proporção - Soma por Nº Propriedade'] = df_soma_jenks['Soma dos mais importantes'] / df_soma_jenks['Numero de propriedades']\n",
    "show(df_soma_jenks.sort_values(by='Soma dos mais importantes',ascending=False))"
   ]
  },
  {
   "cell_type": "markdown",
   "id": "7e956d65",
   "metadata": {},
   "source": [
    "### Vendo os grandes numeros para os imoveis considerando a penalização da Área"
   ]
  },
  {
   "cell_type": "code",
   "execution_count": 13,
   "id": "b30b7a80",
   "metadata": {},
   "outputs": [],
   "source": [
    "#Criando as quebras para cada malha fundiária\n",
    "jenks_assentamento_penalizado = jenkspy.jenks_breaks(pd_list[0]['sum_Area'], n_classes=5)\n",
    "\n",
    "jenks_CAR_penalizado = jenkspy.jenks_breaks(pd_list[1]['sum_Area'], n_classes=5)\n",
    "\n",
    "jenks_FloraNaoDest_penalizado = jenkspy.jenks_breaks(pd_list[2]['sum_Area'], n_classes=5)\n",
    "\n",
    "jenks_Sigef_penalizado = jenkspy.jenks_breaks(pd_list[3]['sum_Area'], n_classes=5)\n",
    "\n",
    "jenks_ProtInt_penalizado = jenkspy.jenks_breaks(pd_list[4]['sum_Area'], n_classes=5)\n",
    "\n",
    "jenks_SusSum_penalizado = jenkspy.jenks_breaks(pd_list[5]['sum_Area'], n_classes=5)\n",
    "\n",
    "jenks_TI_penalizado = jenkspy.jenks_breaks(pd_list[6]['sum_Area'], n_classes=5)"
   ]
  },
  {
   "cell_type": "code",
   "execution_count": 17,
   "id": "fb0e9273",
   "metadata": {},
   "outputs": [],
   "source": [
    "#Criando coluna para cada dataframe sobre os Buckets referentes a cada jenks pela soma penalizado pela área\n",
    "coluna_name = 'sum_Area'\n",
    "jenks=[jenks_assentamento_penalizado,jenks_CAR_penalizado,jenks_FloraNaoDest_penalizado,\n",
    "       jenks_Sigef_penalizado,jenks_ProtInt_penalizado,jenks_SusSum_penalizado,jenks_TI_penalizado]\n",
    "for i in range(len(pd_list)):\n",
    "    pd_list[i]['cut_jenks_penalizado']= pd.cut(pd_list[i][coluna_name],\n",
    "                        bins=jenks[i],\n",
    "                        labels=['bucket_1', 'bucket_2', 'bucket_3', 'bucket_4', 'bucket_5'], include_lowest=True)\n",
    " \n"
   ]
  },
  {
   "cell_type": "code",
   "execution_count": 19,
   "id": "24eedf0a",
   "metadata": {},
   "outputs": [],
   "source": [
    "#Criando lista de dataframes ja filtrado com os jenks que queremos\n",
    "pd_list_jenks_penal = []\n",
    "for i in range(len(pd_list)):\n",
    "    pd_list_jenks_penal.append(pd_list[i].query('cut_jenks_penalizado==\"bucket_4\" or cut_jenks_penalizado==\"bucket_5\"'))\n",
    "\n"
   ]
  },
  {
   "cell_type": "code",
   "execution_count": 26,
   "id": "dbf344b7",
   "metadata": {},
   "outputs": [
    {
     "data": {
      "text/html": [
       "<style>.itables table td {\n",
       "    text-overflow: ellipsis;\n",
       "    overflow: hidden;\n",
       "}\n",
       "\n",
       ".itables table th {\n",
       "    text-overflow: ellipsis;\n",
       "    overflow: hidden;\n",
       "}\n",
       "\n",
       ".itables thead input {\n",
       "    width: 100%;\n",
       "    padding: 3px;\n",
       "    box-sizing: border-box;\n",
       "}\n",
       "\n",
       ".itables tfoot input {\n",
       "    width: 100%;\n",
       "    padding: 3px;\n",
       "    box-sizing: border-box;\n",
       "}\n",
       "</style>\n",
       "<div class=\"itables\">\n",
       "<table id=\"a1b7256c-de46-4436-b48d-a6db33e17600\" class=\"display nowrap\"style=\"table-layout:auto;width:auto;margin:auto;caption-side:bottom\"><thead>\n",
       "    <tr style=\"text-align: right;\">\n",
       "      <th></th>\n",
       "      <th>Malha Fundiária</th>\n",
       "      <th>Numero de propriedades</th>\n",
       "      <th>Soma dos mais importantes</th>\n",
       "      <th>Soma de Área das Propriedades</th>\n",
       "      <th>Porcentagem do Total</th>\n",
       "      <th>Porcentagem do Total Da Malha Toda</th>\n",
       "      <th>Proporção - Soma Por Area da Malha</th>\n",
       "      <th>Proporção - Soma por Nº Propriedade</th>\n",
       "    </tr>\n",
       "  </thead><tbody><tr><td>Loading... (need <a href=https://mwouts.github.io/itables/troubleshooting.html>help</a>?)</td></tr></tbody></table>\n",
       "<link rel=\"stylesheet\" type=\"text/css\" href=\"https://cdn.datatables.net/1.13.1/css/jquery.dataTables.min.css\">\n",
       "<script type=\"module\">\n",
       "    // Import jquery and DataTable\n",
       "    import 'https://code.jquery.com/jquery-3.6.0.min.js';\n",
       "    import dt from 'https://cdn.datatables.net/1.12.1/js/jquery.dataTables.mjs';\n",
       "    dt($);\n",
       "\n",
       "    // Define the table data\n",
       "    const data = [[6, \"TI\", 4, 60481.0, 88630.376315, 0.090477, 0.392077, 0.682396, 15120.25], [4, \"SNUC_ProtInt\", 3, 32926.0, 57996.467183, 0.049256, 0.723607, 0.567724, 10975.333333], [3, \"SIGEF\", 11, 4659.0, 8484.469445, 0.00697, 0.029599, 0.549121, 423.545455], [5, \"SNUC_UsoSus\", 3, 4585.0, 6783.761497, 0.006859, 0.057125, 0.675879, 1528.333333], [1, \"CAR\", 5, 4227.0, 1336.131998, 0.006323, 0.165058, 3.16361, 845.4], [2, \"Flora N\\u00e3o Destinada\", 2, 1703.0, 17304.016989, 0.002548, 0.012634, 0.098416, 851.5], [0, \"Assentamento\", 4, 1456.0, 2829.913795, 0.002178, 0.218142, 0.514503, 364.0]];\n",
       "\n",
       "    // Define the dt_args\n",
       "    let dt_args = {\"order\": [], \"dom\": \"t\"};\n",
       "    dt_args[\"data\"] = data;\n",
       "\n",
       "    $(document).ready(function () {\n",
       "        \n",
       "        $('#a1b7256c-de46-4436-b48d-a6db33e17600').DataTable(dt_args);\n",
       "    });\n",
       "</script>\n",
       "</div>\n"
      ],
      "text/plain": [
       "<IPython.core.display.HTML object>"
      ]
     },
     "metadata": {},
     "output_type": "display_data"
    }
   ],
   "source": [
    "#Formando o dataframe com as infos\n",
    "lista_colunas = ['AssentSum','CAR_Sum','FloraNDest','SigefSum','ProtIntSum','Sus_Sum','TI_Sum']\n",
    "lista_malha = ['Assentamento','CAR','Flora Não Destinada','SIGEF','SNUC_ProtInt','SNUC_UsoSus','TI']\n",
    "lista_numero_prop = [pd_list_jenks_penal[0].shape[0],pd_list_jenks_penal[1].shape[0],pd_list_jenks_penal[2].shape[0]\n",
    "                     ,pd_list_jenks_penal[3].shape[0],pd_list_jenks_penal[4].shape[0],pd_list_jenks_penal[5].shape[0],pd_list_jenks_penal[6].shape[0]]\n",
    "lista_soma_ = [pd_list_jenks_penal[0][lista_colunas[0]].sum(),pd_list_jenks_penal[1][lista_colunas[1]].sum(),pd_list_jenks_penal[2][lista_colunas[2]].sum(),\n",
    "              pd_list_jenks_penal[3][lista_colunas[3]].sum(),pd_list_jenks_penal[4][lista_colunas[4]].sum(),\n",
    "              pd_list_jenks_penal[5][lista_colunas[5]].sum(),pd_list_jenks_penal[6][lista_colunas[6]].sum()]\n",
    "\n",
    "lista_soma_area = [pd_list_jenks_penal[0].area_geom.sum(),pd_list_jenks_penal[1].area_geom.sum(),pd_list_jenks_penal[2].area_geom.sum(),\n",
    "              pd_list_jenks_penal[3].area_geom.sum(),pd_list_jenks_penal[4].area_geom.sum(),\n",
    "              pd_list_jenks_penal[5].area_geom.sum(),pd_list_jenks_penal[6].area_geom.sum()]\n",
    "\n",
    "df_soma_jenks_penal = pd.DataFrame({'Malha Fundiária':lista_malha,'Numero de propriedades':lista_numero_prop,'Soma dos mais importantes':lista_soma_,'Soma de Área das Propriedades':lista_soma_area})\n",
    "\n",
    "df_soma_jenks_penal['Porcentagem do Total'] = (df_soma_jenks_penal['Soma dos mais importantes'] / 66846626)*100\n",
    "df_soma_jenks_penal['Porcentagem do Total Da Malha Toda'] = (df_soma_jenks_penal['Soma dos mais importantes'] / df_soma_malha_order['Soma, em Dolar, de importancia da Malha Fundiaria'])*100\n",
    "df_soma_jenks_penal['Proporção - Soma Por Area da Malha'] = df_soma_jenks_penal['Soma dos mais importantes'] / df_soma_jenks_penal['Soma de Área das Propriedades']\n",
    "df_soma_jenks_penal['Proporção - Soma por Nº Propriedade'] = df_soma_jenks_penal['Soma dos mais importantes'] / df_soma_jenks_penal['Numero de propriedades']\n",
    "show(df_soma_jenks_penal.sort_values(by='Soma dos mais importantes',ascending=False))"
   ]
  },
  {
   "cell_type": "code",
   "execution_count": null,
   "id": "70fbe95b",
   "metadata": {},
   "outputs": [],
   "source": []
  },
  {
   "cell_type": "code",
   "execution_count": null,
   "id": "15f00269",
   "metadata": {},
   "outputs": [],
   "source": []
  },
  {
   "cell_type": "code",
   "execution_count": null,
   "id": "2da2c3a3",
   "metadata": {},
   "outputs": [],
   "source": []
  },
  {
   "cell_type": "code",
   "execution_count": null,
   "id": "472725e5",
   "metadata": {},
   "outputs": [],
   "source": []
  },
  {
   "cell_type": "code",
   "execution_count": null,
   "id": "cee67314",
   "metadata": {},
   "outputs": [],
   "source": []
  },
  {
   "cell_type": "code",
   "execution_count": null,
   "id": "76de840f",
   "metadata": {},
   "outputs": [],
   "source": []
  },
  {
   "cell_type": "code",
   "execution_count": null,
   "id": "2c8cef58",
   "metadata": {},
   "outputs": [],
   "source": [
    "6.124 propriedades\n",
    "57.221.548 dolares\n",
    "87% do total de dolares da area de influencia para teles pires"
   ]
  },
  {
   "cell_type": "code",
   "execution_count": 41,
   "id": "00eeb98e",
   "metadata": {},
   "outputs": [
    {
     "data": {
      "text/html": [
       "<style>.itables table td {\n",
       "    text-overflow: ellipsis;\n",
       "    overflow: hidden;\n",
       "}\n",
       "\n",
       ".itables table th {\n",
       "    text-overflow: ellipsis;\n",
       "    overflow: hidden;\n",
       "}\n",
       "\n",
       ".itables thead input {\n",
       "    width: 100%;\n",
       "    padding: 3px;\n",
       "    box-sizing: border-box;\n",
       "}\n",
       "\n",
       ".itables tfoot input {\n",
       "    width: 100%;\n",
       "    padding: 3px;\n",
       "    box-sizing: border-box;\n",
       "}\n",
       "</style>\n",
       "<div class=\"itables\">\n",
       "<table id=\"31f8c0ca-0ebf-4569-bc6d-e435646b6449\" class=\"display nowrap\"style=\"table-layout:auto;width:auto;margin:auto;caption-side:bottom\"><thead>\n",
       "    <tr style=\"text-align: right;\">\n",
       "      <th></th>\n",
       "      <th>Tipo de Malha</th>\n",
       "      <th>Número de Propriedades</th>\n",
       "      <th>Soma, em Dolar, de importancia da Malha Fundiaria</th>\n",
       "      <th>Area da Malha</th>\n",
       "      <th>Porcentagem - Soma Por Total</th>\n",
       "      <th>Proporção - Soma Por Area da Malha</th>\n",
       "      <th>Proporção - Soma por Nº Propriedade</th>\n",
       "    </tr>\n",
       "  </thead><tbody><tr><td>Loading... (need <a href=https://mwouts.github.io/itables/troubleshooting.html>help</a>?)</td></tr></tbody></table>\n",
       "<link rel=\"stylesheet\" type=\"text/css\" href=\"https://cdn.datatables.net/1.13.1/css/jquery.dataTables.min.css\">\n",
       "<script type=\"module\">\n",
       "    // Import jquery and DataTable\n",
       "    import 'https://code.jquery.com/jquery-3.6.0.min.js';\n",
       "    import dt from 'https://cdn.datatables.net/1.12.1/js/jquery.dataTables.mjs';\n",
       "    dt($);\n",
       "\n",
       "    // Define the table data\n",
       "    const data = [[3, \"SigefSum\", 5330, 15740286.0, 307672.480898, 23.546867, 51.159226, 2953.149343], [6, \"TI_Sum\", 49, 15425792.0, 364755.790448, 23.076396, 42.290739, 314812.081633], [2, \"FloraNDest\", 644, 13478991.0, 354988.413636, 20.164056, 37.970228, 20930.110248], [5, \"Sus_Sum\", 70, 8026222.0, 460342.032227, 12.006922, 17.435345, 114660.314286], [4, \"ProtIntSum\", 31, 4550257.0, 266771.907036, 6.807011, 17.056732, 146782.483871], [1, \"CAR_Sum\", 1527, 2560918.0, 8727.290678, 3.831036, 293.437917, 1677.091028], [0, \"AssentSum\", 259, 667455.0, 35040.151535, 0.998487, 19.048291, 2577.046332]];\n",
       "\n",
       "    // Define the dt_args\n",
       "    let dt_args = {\"order\": [], \"dom\": \"t\"};\n",
       "    dt_args[\"data\"] = data;\n",
       "\n",
       "    $(document).ready(function () {\n",
       "        \n",
       "        $('#31f8c0ca-0ebf-4569-bc6d-e435646b6449').DataTable(dt_args);\n",
       "    });\n",
       "</script>\n",
       "</div>\n"
      ],
      "text/plain": [
       "<IPython.core.display.HTML object>"
      ]
     },
     "metadata": {},
     "output_type": "display_data"
    }
   ],
   "source": [
    "show(df_soma_malha_order.sort_values(by='Soma, em Dolar, de importancia da Malha Fundiaria',ascending=False))"
   ]
  },
  {
   "cell_type": "code",
   "execution_count": 30,
   "id": "6b2206e5",
   "metadata": {},
   "outputs": [
    {
     "data": {
      "text/html": [
       "<style>.itables table td {\n",
       "    text-overflow: ellipsis;\n",
       "    overflow: hidden;\n",
       "}\n",
       "\n",
       ".itables table th {\n",
       "    text-overflow: ellipsis;\n",
       "    overflow: hidden;\n",
       "}\n",
       "\n",
       ".itables thead input {\n",
       "    width: 100%;\n",
       "    padding: 3px;\n",
       "    box-sizing: border-box;\n",
       "}\n",
       "\n",
       ".itables tfoot input {\n",
       "    width: 100%;\n",
       "    padding: 3px;\n",
       "    box-sizing: border-box;\n",
       "}\n",
       "</style>\n",
       "<div class=\"itables\">\n",
       "<table id=\"b8d45dcc-4001-4705-9bd7-180fc0ae2dec\" class=\"display nowrap\"style=\"table-layout:auto;width:auto;margin:auto;caption-side:bottom\"><thead>\n",
       "    <tr style=\"text-align: right;\">\n",
       "      <th></th>\n",
       "      <th>Malha Fundiária</th>\n",
       "      <th>Numero de propriedades</th>\n",
       "      <th>Soma dos mais importantes</th>\n",
       "      <th>Soma de Área das Propriedades</th>\n",
       "      <th>Porcentagem do Total</th>\n",
       "      <th>Porcentagem do Total Da Malha Toda</th>\n",
       "      <th>Proporção - Soma Por Area da Malha</th>\n",
       "      <th>Proporção - Soma por Nº Propriedade</th>\n",
       "    </tr>\n",
       "  </thead><tbody><tr><td>Loading... (need <a href=https://mwouts.github.io/itables/troubleshooting.html>help</a>?)</td></tr></tbody></table>\n",
       "<link rel=\"stylesheet\" type=\"text/css\" href=\"https://cdn.datatables.net/1.13.1/css/jquery.dataTables.min.css\">\n",
       "<script type=\"module\">\n",
       "    // Import jquery and DataTable\n",
       "    import 'https://code.jquery.com/jquery-3.6.0.min.js';\n",
       "    import dt from 'https://cdn.datatables.net/1.12.1/js/jquery.dataTables.mjs';\n",
       "    dt($);\n",
       "\n",
       "    // Define the table data\n",
       "    const data = [[2, \"Flora N\\u00e3o Destinada\", 4, 8089371.0, 29876.329209, 12.10139, 60.014663, 270.761878, 2022343.0], [6, \"TI\", 2, 7464280.0, 82108.792435, 11.166278, 48.38831, 90.907195, 3732140.0], [5, \"SNUC_UsoSus\", 5, 4582269.0, 111136.8163, 6.854899, 57.091232, 41.230882, 916453.8], [4, \"SNUC_ProtInt\", 2, 2387703.0, 37153.506479, 3.571913, 52.474025, 64.265886, 1193852.0], [3, \"SIGEF\", 28, 1681474.0, 39121.508857, 2.515421, 10.682614, 42.980806, 60052.64], [1, \"CAR\", 151, 614478.0, 646.650681, 0.919236, 23.994443, 950.247201, 4069.391], [0, \"Assentamento\", 6, 148309.0, 4590.229949, 0.221865, 22.220075, 32.30971, 24718.17]];\n",
       "\n",
       "    // Define the dt_args\n",
       "    let dt_args = {\"order\": [], \"dom\": \"t\"};\n",
       "    dt_args[\"data\"] = data;\n",
       "\n",
       "    $(document).ready(function () {\n",
       "        \n",
       "        $('#b8d45dcc-4001-4705-9bd7-180fc0ae2dec').DataTable(dt_args);\n",
       "    });\n",
       "</script>\n",
       "</div>\n"
      ],
      "text/plain": [
       "<IPython.core.display.HTML object>"
      ]
     },
     "metadata": {},
     "output_type": "display_data"
    }
   ],
   "source": [
    "show(df_soma_jenks.sort_values(by='Soma dos mais importantes',ascending=False))"
   ]
  },
  {
   "cell_type": "code",
   "execution_count": 43,
   "id": "1c925fcc",
   "metadata": {},
   "outputs": [],
   "source": [
    "41 propriedades mais importantes\n",
    "8.651.446 dolares\n",
    "porcentagem do total: 13"
   ]
  },
  {
   "cell_type": "code",
   "execution_count": null,
   "id": "c8e5ad51",
   "metadata": {},
   "outputs": [],
   "source": []
  },
  {
   "cell_type": "code",
   "execution_count": null,
   "id": "ba2d41b3",
   "metadata": {},
   "outputs": [],
   "source": []
  },
  {
   "cell_type": "code",
   "execution_count": null,
   "id": "6f4c0837",
   "metadata": {},
   "outputs": [],
   "source": []
  },
  {
   "cell_type": "code",
   "execution_count": 31,
   "id": "4a4e805f",
   "metadata": {},
   "outputs": [
    {
     "data": {
      "text/html": [
       "<style>.itables table td {\n",
       "    text-overflow: ellipsis;\n",
       "    overflow: hidden;\n",
       "}\n",
       "\n",
       ".itables table th {\n",
       "    text-overflow: ellipsis;\n",
       "    overflow: hidden;\n",
       "}\n",
       "\n",
       ".itables thead input {\n",
       "    width: 100%;\n",
       "    padding: 3px;\n",
       "    box-sizing: border-box;\n",
       "}\n",
       "\n",
       ".itables tfoot input {\n",
       "    width: 100%;\n",
       "    padding: 3px;\n",
       "    box-sizing: border-box;\n",
       "}\n",
       "</style>\n",
       "<div class=\"itables\">\n",
       "<table id=\"61502b2c-904e-467f-a548-5a1e7fc199b5\" class=\"display nowrap\"style=\"table-layout:auto;width:auto;margin:auto;caption-side:bottom\"><thead>\n",
       "    <tr style=\"text-align: right;\">\n",
       "      <th></th>\n",
       "      <th>Malha Fundiária</th>\n",
       "      <th>Numero de propriedades</th>\n",
       "      <th>Soma dos mais importantes</th>\n",
       "      <th>Soma de Área das Propriedades</th>\n",
       "      <th>Porcentagem do Total</th>\n",
       "      <th>Porcentagem do Total Da Malha Toda</th>\n",
       "      <th>Proporção - Soma Por Area da Malha</th>\n",
       "      <th>Proporção - Soma por Nº Propriedade</th>\n",
       "    </tr>\n",
       "  </thead><tbody><tr><td>Loading... (need <a href=https://mwouts.github.io/itables/troubleshooting.html>help</a>?)</td></tr></tbody></table>\n",
       "<link rel=\"stylesheet\" type=\"text/css\" href=\"https://cdn.datatables.net/1.13.1/css/jquery.dataTables.min.css\">\n",
       "<script type=\"module\">\n",
       "    // Import jquery and DataTable\n",
       "    import 'https://code.jquery.com/jquery-3.6.0.min.js';\n",
       "    import dt from 'https://cdn.datatables.net/1.12.1/js/jquery.dataTables.mjs';\n",
       "    dt($);\n",
       "\n",
       "    // Define the table data\n",
       "    const data = [[6, \"TI\", 4, 60481.0, 88630.376315, 0.090477, 0.392077, 0.682396, 15120.25], [4, \"SNUC_ProtInt\", 3, 32926.0, 57996.467183, 0.049256, 0.723607, 0.567724, 10975.333333], [3, \"SIGEF\", 11, 4659.0, 8484.469445, 0.00697, 0.029599, 0.549121, 423.545455], [5, \"SNUC_UsoSus\", 3, 4585.0, 6783.761497, 0.006859, 0.057125, 0.675879, 1528.333333], [1, \"CAR\", 5, 4227.0, 1336.131998, 0.006323, 0.165058, 3.16361, 845.4], [2, \"Flora N\\u00e3o Destinada\", 2, 1703.0, 17304.016989, 0.002548, 0.012634, 0.098416, 851.5], [0, \"Assentamento\", 4, 1456.0, 2829.913795, 0.002178, 0.218142, 0.514503, 364.0]];\n",
       "\n",
       "    // Define the dt_args\n",
       "    let dt_args = {\"order\": [], \"dom\": \"t\"};\n",
       "    dt_args[\"data\"] = data;\n",
       "\n",
       "    $(document).ready(function () {\n",
       "        \n",
       "        $('#61502b2c-904e-467f-a548-5a1e7fc199b5').DataTable(dt_args);\n",
       "    });\n",
       "</script>\n",
       "</div>\n"
      ],
      "text/plain": [
       "<IPython.core.display.HTML object>"
      ]
     },
     "metadata": {},
     "output_type": "display_data"
    }
   ],
   "source": [
    "show(df_soma_jenks_penal.sort_values(by='Soma dos mais importantes',ascending=False))"
   ]
  }
 ],
 "metadata": {
  "kernelspec": {
   "display_name": "Python 3 (ipykernel)",
   "language": "python",
   "name": "python3"
  },
  "language_info": {
   "codemirror_mode": {
    "name": "ipython",
    "version": 3
   },
   "file_extension": ".py",
   "mimetype": "text/x-python",
   "name": "python",
   "nbconvert_exporter": "python",
   "pygments_lexer": "ipython3",
   "version": "3.9.16"
  }
 },
 "nbformat": 4,
 "nbformat_minor": 5
}
