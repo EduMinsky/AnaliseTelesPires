{
 "cells": [
  {
   "cell_type": "markdown",
   "id": "11a8a766",
   "metadata": {},
   "source": [
    "### Neste script vamos analisar os dados de malha fundiária mais importantes para a Hidreletrica de Teles Pires"
   ]
  },
  {
   "cell_type": "markdown",
   "id": "f437f1f2",
   "metadata": {},
   "source": [
    "Foi decidido que iremos utilizar a malha selecionada pelo Metodo da Soma dividida pela área da malha  \n",
    "Neste primeiro Bloco de código, vamos ver o quanto, em dolar, cada malha fundiária interessa para Teles Pires\n"
   ]
  },
  {
   "cell_type": "code",
   "execution_count": 3,
   "id": "55bc17c9",
   "metadata": {},
   "outputs": [],
   "source": [
    "#Importando pacotes\n",
    "import pandas as pd\n",
    "import numpy as np\n",
    "import glob"
   ]
  },
  {
   "cell_type": "code",
   "execution_count": 17,
   "id": "18bb5aa6",
   "metadata": {
    "scrolled": true
   },
   "outputs": [],
   "source": [
    "#Definindo nome de arquivos e diretórios:\n",
    "dir_tables = 'C:/Users/napcc/Dropbox (CPI)/EduardoMinsky/Analise_TellesPires/Analise_Current/HighValuesForPolygons/FeatureTables/'\n",
    "my_list_files = glob.glob(dir_tables+'*.csv')\n",
    "\n",
    "malha = ['assentamento','CAR','FloraNaoDest','SIGEF','ProtInt','UsoSus','TI']"
   ]
  },
  {
   "cell_type": "code",
   "execution_count": 50,
   "id": "995339bb",
   "metadata": {},
   "outputs": [],
   "source": [
    "#Lendo os arquivos e já criando uam coluna com qual malha fundiária aquele csv pertence\n",
    "\n",
    "pd_list = []\n",
    "for i in range(len(my_list_files)):\n",
    "    a = pd.read_csv(my_list_files[i],sep = ';')\n",
    "    a['Malha'] = malha[i]\n",
    "    pd_list.append(a)\n",
    "    "
   ]
  },
  {
   "cell_type": "code",
   "execution_count": 80,
   "id": "c7f1d087",
   "metadata": {},
   "outputs": [],
   "source": [
    "#Retendo as colunas que importam\n",
    "for i in range(len(pd_list)):\n",
    "    pd_list[i] = pd_list[i].loc[:,['SUM','Malha']]\n",
    "    \n",
    "#Fazendo o merge dessa lista de dfs\n",
    "df_ = pd.concat(pd_list)\n",
    "\n",
    "#Transformando a coluna de SUM em numérico\n",
    "df_['SUM'] = df_['SUM'].str.replace(',','.').astype('float')\n",
    "#Resetando index:\n",
    "df_.reset_index(inplace=True)\n",
    "del df_['index']"
   ]
  },
  {
   "cell_type": "code",
   "execution_count": 82,
   "id": "5c47729f",
   "metadata": {},
   "outputs": [
    {
     "data": {
      "text/html": [
       "<div>\n",
       "<style scoped>\n",
       "    .dataframe tbody tr th:only-of-type {\n",
       "        vertical-align: middle;\n",
       "    }\n",
       "\n",
       "    .dataframe tbody tr th {\n",
       "        vertical-align: top;\n",
       "    }\n",
       "\n",
       "    .dataframe thead th {\n",
       "        text-align: right;\n",
       "    }\n",
       "</style>\n",
       "<table border=\"1\" class=\"dataframe\">\n",
       "  <thead>\n",
       "    <tr style=\"text-align: right;\">\n",
       "      <th></th>\n",
       "      <th>Malha</th>\n",
       "      <th>SUM</th>\n",
       "    </tr>\n",
       "  </thead>\n",
       "  <tbody>\n",
       "    <tr>\n",
       "      <th>0</th>\n",
       "      <td>CAR</td>\n",
       "      <td>18929.0</td>\n",
       "    </tr>\n",
       "    <tr>\n",
       "      <th>1</th>\n",
       "      <td>FloraNaoDest</td>\n",
       "      <td>632606.0</td>\n",
       "    </tr>\n",
       "    <tr>\n",
       "      <th>2</th>\n",
       "      <td>ProtInt</td>\n",
       "      <td>3320029.0</td>\n",
       "    </tr>\n",
       "    <tr>\n",
       "      <th>3</th>\n",
       "      <td>SIGEF</td>\n",
       "      <td>194473.0</td>\n",
       "    </tr>\n",
       "    <tr>\n",
       "      <th>4</th>\n",
       "      <td>TI</td>\n",
       "      <td>13437757.0</td>\n",
       "    </tr>\n",
       "    <tr>\n",
       "      <th>5</th>\n",
       "      <td>UsoSus</td>\n",
       "      <td>5461937.0</td>\n",
       "    </tr>\n",
       "    <tr>\n",
       "      <th>6</th>\n",
       "      <td>assentamento</td>\n",
       "      <td>89486.0</td>\n",
       "    </tr>\n",
       "  </tbody>\n",
       "</table>\n",
       "</div>"
      ],
      "text/plain": [
       "          Malha         SUM\n",
       "0           CAR     18929.0\n",
       "1  FloraNaoDest    632606.0\n",
       "2       ProtInt   3320029.0\n",
       "3         SIGEF    194473.0\n",
       "4            TI  13437757.0\n",
       "5        UsoSus   5461937.0\n",
       "6  assentamento     89486.0"
      ]
     },
     "execution_count": 82,
     "metadata": {},
     "output_type": "execute_result"
    }
   ],
   "source": [
    "#Agregando dados:\n",
    "df_.groupby('Malha',as_index = False).SUM.sum()\n"
   ]
  }
 ],
 "metadata": {
  "kernelspec": {
   "display_name": "Python 3 (ipykernel)",
   "language": "python",
   "name": "python3"
  },
  "language_info": {
   "codemirror_mode": {
    "name": "ipython",
    "version": 3
   },
   "file_extension": ".py",
   "mimetype": "text/x-python",
   "name": "python",
   "nbconvert_exporter": "python",
   "pygments_lexer": "ipython3",
   "version": "3.9.16"
  }
 },
 "nbformat": 4,
 "nbformat_minor": 5
}
