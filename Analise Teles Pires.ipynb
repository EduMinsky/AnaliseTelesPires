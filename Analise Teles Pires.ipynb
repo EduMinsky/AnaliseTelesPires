{
 "cells": [
  {
   "cell_type": "markdown",
   "id": "11a8a766",
   "metadata": {},
   "source": [
    "### Neste script vamos analisar os dados de malha fundiária mais importantes para a Hidreletrica de Teles Pires"
   ]
  },
  {
   "cell_type": "markdown",
   "id": "f437f1f2",
   "metadata": {},
   "source": [
    "Vamos analisar os grandes números para Teles Pires  \n",
    "Primeiro vamos ler os dados"
   ]
  },
  {
   "cell_type": "code",
   "execution_count": 41,
   "id": "55bc17c9",
   "metadata": {},
   "outputs": [],
   "source": [
    "#Importando pacotes\n",
    "import pandas as pd\n",
    "import numpy as np\n",
    "import glob\n",
    "from itables import show\n",
    "import jenkspy\n",
    "pd.options.display.float_format = '{:20,.2f}'.format"
   ]
  },
  {
   "cell_type": "code",
   "execution_count": 2,
   "id": "18bb5aa6",
   "metadata": {
    "scrolled": true
   },
   "outputs": [
    {
     "data": {
      "text/plain": [
       "['C:/Users/User/Dropbox (CPI)/EduardoMinsky/Analise_TellesPires/Analise_Current/FeaturesTable\\\\Assentamentos_SumOfValues_featureTable.csv',\n",
       " 'C:/Users/User/Dropbox (CPI)/EduardoMinsky/Analise_TellesPires/Analise_Current/FeaturesTable\\\\CAR_SumOfValues_featureTable.csv',\n",
       " 'C:/Users/User/Dropbox (CPI)/EduardoMinsky/Analise_TellesPires/Analise_Current/FeaturesTable\\\\FloraNaoDest_SumOfValues_featureTable.csv',\n",
       " 'C:/Users/User/Dropbox (CPI)/EduardoMinsky/Analise_TellesPires/Analise_Current/FeaturesTable\\\\Sigef_SumOfValues_featureTable.csv',\n",
       " 'C:/Users/User/Dropbox (CPI)/EduardoMinsky/Analise_TellesPires/Analise_Current/FeaturesTable\\\\SNUC_TelesPires_featureTable.csv',\n",
       " 'C:/Users/User/Dropbox (CPI)/EduardoMinsky/Analise_TellesPires/Analise_Current/FeaturesTable\\\\TIHomolog_SumOfValues_featureTable.csv']"
      ]
     },
     "execution_count": 2,
     "metadata": {},
     "output_type": "execute_result"
    }
   ],
   "source": [
    "#Definindo nome de arquivos e diretórios:\n",
    "dir_tables = 'C:/Users/User/Dropbox (CPI)/EduardoMinsky/Analise_TellesPires/Analise_Current/FeaturesTable/'\n",
    "\n",
    "my_list_files = glob.glob(dir_tables+'*.csv')\n",
    "\n",
    "malha = ['assentamento','CAR','FloraNaoDest','SIGEF','SNUC','TI']\n",
    "my_list_files"
   ]
  },
  {
   "cell_type": "code",
   "execution_count": 3,
   "id": "995339bb",
   "metadata": {},
   "outputs": [],
   "source": [
    "#Lendo os arquivos, alimentando  a lista de DFs e criando uma coluna com que tipo de malha é\n",
    "\n",
    "pd_list = []\n",
    "for i in range(len(my_list_files)):\n",
    "    a = pd.read_csv(my_list_files[i],sep = ';')\n",
    "    a['Malha'] = malha[i]\n",
    "    pd_list.append(a)\n",
    "\n",
    "\n"
   ]
  },
  {
   "cell_type": "markdown",
   "id": "b678c755",
   "metadata": {},
   "source": [
    "## Agora vamos calcular os grandes números para cada malha fundiária!  \n",
    "Nós sabemos que a analise de Teles Pires possui 66.846.626,00 milhões de dolares."
   ]
  },
  {
   "cell_type": "code",
   "execution_count": 4,
   "id": "1bda9977",
   "metadata": {},
   "outputs": [],
   "source": [
    "#Vamos passar a coluna de dolar por 1km² para number. Estava string\n",
    "pd_list[0]['Dolar_1km2'] = pd_list[0]['Dolar_1km2'].str.replace(',','.').astype('float')\n",
    "pd_list[1]['Dolar_1km2'] = pd_list[1]['Dolar_1km2'].str.replace(',','.').astype('float')\n",
    "pd_list[2]['Dolar_1km2'] = pd_list[2]['Dolar_1km2'].str.replace(',','.').astype('float')\n",
    "pd_list[3]['Dolar_1km2'] = pd_list[3]['Dolar_1km2'].str.replace(',','.').astype('float')\n",
    "pd_list[4]['Dolar_1km2'] = pd_list[4]['Dolar_1km2'].str.replace(',','.').astype('float')\n",
    "pd_list[5]['Dolar_1km2'] = pd_list[5]['Dolar_1km2'].str.replace(',','.').astype('float')\n",
    "\n",
    "\n",
    "#Vamos passar a coluna de geometria para number. Estava string\n",
    "pd_list[0]['area_geom'] = pd_list[0]['area_geom'].str.replace(',','.').astype('float')\n",
    "pd_list[1]['area_geom'] = pd_list[1]['area_geom'].str.replace(',','.').astype('float')\n",
    "pd_list[2]['area_geom'] = pd_list[2]['area_geom'].str.replace(',','.').astype('float')\n",
    "pd_list[3]['area_geom'] = pd_list[3]['area_geom'].str.replace(',','.').astype('float')\n",
    "pd_list[4]['area_geom'] = pd_list[4]['area_geom'].str.replace(',','.').astype('float')\n",
    "pd_list[5]['area_geom'] = pd_list[5]['area_geom'].str.replace(',','.').astype('float')\n",
    "\n",
    "\n",
    "#Vamos passar a coluna de Toda Soma de dolar pra área toda do pixel  para number tbm\n",
    "pd_list[0]['DolarPixel'] = pd_list[0]['DolarPixel'].str.replace(',','.').astype('float')\n",
    "pd_list[1]['DolarPixel'] = pd_list[1]['DolarPixel'].str.replace(',','.').astype('float')\n",
    "pd_list[2]['DolarPixel'] = pd_list[2]['DolarPixel'].str.replace(',','.').astype('float')\n",
    "pd_list[3]['DolarPixel'] = pd_list[3]['DolarPixel'].str.replace(',','.').astype('float')\n",
    "pd_list[4]['DolarPixel'] = pd_list[4]['DolarPixel'].str.replace(',','.').astype('float')\n",
    "pd_list[5]['DolarPixel'] = pd_list[5]['DolarPixel'].str.replace(',','.').astype('float')\n"
   ]
  },
  {
   "cell_type": "code",
   "execution_count": 42,
   "id": "b2cee19d",
   "metadata": {
    "scrolled": true
   },
   "outputs": [
    {
     "data": {
      "text/html": [
       "<div>\n",
       "<style scoped>\n",
       "    .dataframe tbody tr th:only-of-type {\n",
       "        vertical-align: middle;\n",
       "    }\n",
       "\n",
       "    .dataframe tbody tr th {\n",
       "        vertical-align: top;\n",
       "    }\n",
       "\n",
       "    .dataframe thead th {\n",
       "        text-align: right;\n",
       "    }\n",
       "</style>\n",
       "<table border=\"1\" class=\"dataframe\">\n",
       "  <thead>\n",
       "    <tr style=\"text-align: right;\">\n",
       "      <th></th>\n",
       "      <th>Malha Fundiária</th>\n",
       "      <th>DolarPorMalhaFundiária</th>\n",
       "      <th>Porcentagem,dolarizada, da malha para Total de TelesPires</th>\n",
       "    </tr>\n",
       "  </thead>\n",
       "  <tbody>\n",
       "    <tr>\n",
       "      <th>0</th>\n",
       "      <td>assentamento</td>\n",
       "      <td>35,822,480.54</td>\n",
       "      <td>1.00</td>\n",
       "    </tr>\n",
       "    <tr>\n",
       "      <th>1</th>\n",
       "      <td>CAR</td>\n",
       "      <td>137,445,178.11</td>\n",
       "      <td>3.83</td>\n",
       "    </tr>\n",
       "    <tr>\n",
       "      <th>2</th>\n",
       "      <td>FloraNaoDest</td>\n",
       "      <td>723,421,163.57</td>\n",
       "      <td>20.16</td>\n",
       "    </tr>\n",
       "    <tr>\n",
       "      <th>3</th>\n",
       "      <td>SIGEF</td>\n",
       "      <td>844,785,478.29</td>\n",
       "      <td>23.55</td>\n",
       "    </tr>\n",
       "    <tr>\n",
       "      <th>4</th>\n",
       "      <td>SNUC</td>\n",
       "      <td>674,983,221.70</td>\n",
       "      <td>18.81</td>\n",
       "    </tr>\n",
       "    <tr>\n",
       "      <th>5</th>\n",
       "      <td>TI</td>\n",
       "      <td>827,906,505.30</td>\n",
       "      <td>23.08</td>\n",
       "    </tr>\n",
       "  </tbody>\n",
       "</table>\n",
       "</div>"
      ],
      "text/plain": [
       "  Malha Fundiária  DolarPorMalhaFundiária  \\\n",
       "0    assentamento           35,822,480.54   \n",
       "1             CAR          137,445,178.11   \n",
       "2    FloraNaoDest          723,421,163.57   \n",
       "3           SIGEF          844,785,478.29   \n",
       "4            SNUC          674,983,221.70   \n",
       "5              TI          827,906,505.30   \n",
       "\n",
       "   Porcentagem,dolarizada, da malha para Total de TelesPires  \n",
       "0                                               1.00          \n",
       "1                                               3.83          \n",
       "2                                              20.16          \n",
       "3                                              23.55          \n",
       "4                                              18.81          \n",
       "5                                              23.08          "
      ]
     },
     "execution_count": 42,
     "metadata": {},
     "output_type": "execute_result"
    }
   ],
   "source": [
    "#Vamos agora calcular o valor de soma das áreas e criar uma coluna para dividir pela total de Teles Pires\n",
    "malha_fundi = ['assentamento','CAR','FloraNaoDest','SIGEF','SNUC','TI']\n",
    "nome_col = 'DolarPixel'\n",
    "\n",
    "assentamento_dolar = pd_list[0][nome_col].sum()\n",
    "CAR_dolar = pd_list[1][nome_col].sum()\n",
    "FloraNaoDest_dolar = pd_list[2][nome_col].sum()\n",
    "SIGEF_dolar = pd_list[3][nome_col].sum()\n",
    "SNUC_dolar = pd_list[4][nome_col].sum()\n",
    "TI_dolar = pd_list[5][nome_col].sum()\n",
    "malha_dol = [assentamento_dolar,CAR_dolar,FloraNaoDest_dolar,SIGEF_dolar,SNUC_dolar,TI_dolar]\n",
    "\n",
    "assentamento_dolar_pctagem=(assentamento_dolar/3587676867.088776)*100\n",
    "CAR_dolar_pctagem=(CAR_dolar/3587676867.088776)*100\n",
    "FloraNaoDest_dolar_pctagem=(FloraNaoDest_dolar/3587676867.088776)*100\n",
    "SIGEF_dolar_pctagem=(SIGEF_dolar/3587676867.088776)*100\n",
    "SNUC_dolar_pctagem=(SNUC_dolar/3587676867.088776)*100\n",
    "TI_dolar_pctagem=(TI_dolar/3587676867.088776)*100\n",
    "malha_dol_peloTotal = [assentamento_dolar_pctagem,CAR_dolar_pctagem,FloraNaoDest_dolar_pctagem,SIGEF_dolar_pctagem,\n",
    "                      SNUC_dolar_pctagem,TI_dolar_pctagem]\n",
    "\n",
    "\n",
    "df_final =pd.DataFrame({'Malha Fundiária':malha_fundi,'DolarPorMalhaFundiária':malha_dol,\"Porcentagem,dolarizada, da malha para Total de TelesPires\":malha_dol_peloTotal})\n",
    "df_final.attrs['Valores Obtidos do Dolar'] = 'A Obtenção foi feita pela multiplicação da soma de valores da interpolação dentro de cada malha fundiária. Este valor da soma esta para 1km², portanto, multiplicamos esse valor por 53,670276 que é a área do pixel da interpolação '\n",
    "df_final.attrs['Valor Total para Teles Pires'] ='3.587.676.867,088776 de dols'\n",
    "df_final.attrs['Porcentagem que cada Malha influencia no total de teles pires'] ='Calculo feito a partir do que cada malha tem dolarizado dividido por 3.587.676.867,088776 de dols e multiplicado por 100'\n",
    "\n",
    "df_final"
   ]
  },
  {
   "cell_type": "markdown",
   "id": "d17e9062",
   "metadata": {},
   "source": [
    "### Analisando a perda de dolar por ano\n",
    "aqui vamos pegar o excel de alerta por ano para teles pires e o excel do alerta para somarmos a dolarizacao de teles e multiplicar pela soma de área"
   ]
  },
  {
   "cell_type": "code",
   "execution_count": null,
   "id": "2ebc9dd9",
   "metadata": {},
   "outputs": [],
   "source": [
    "#Definindo nome de arquivos e diretórios:\n",
    "dir_tables2 = 'C:/Users/User/Dropbox (CPI)/EduardoMinsky/Analise_TellesPires/Analise_Current/FeaturesTable/Dolar_Por_Desmatamento/'\n",
    "ano = [2015,2016,2017,2018,2019,2020,2021,2022]\n",
    "my_list_files = glob.glob(dir_tables2+'*.csv')\n",
    "\n",
    "my_list_files"
   ]
  },
  {
   "cell_type": "code",
   "execution_count": null,
   "id": "1b440478",
   "metadata": {},
   "outputs": [],
   "source": [
    "#Lendo os arquivos\n",
    "pd_list = []\n",
    "for i in range(len(my_list_files)):\n",
    "    a = pd.read_csv(my_list_files[i],sep = ';')\n",
    "    a['Ano'] = ano[i]\n",
    "    pd_list.append(a)\n",
    "desmat_ano = pd.concat(pd_list,ignore_index=True)"
   ]
  },
  {
   "cell_type": "code",
   "execution_count": null,
   "id": "2e74a680",
   "metadata": {},
   "outputs": [],
   "source": [
    "import seaborn as sns\n",
    "from matplotlib import pyplot as plt\n",
    "df = desmat_ano.groupby('Ano',as_index=False).gridcode.sum()\n",
    "\n",
    "df['Cumulative Sum'] = df.gridcode.cumsum()\n",
    "\n",
    "ax = sns.lineplot(data=df, x=\"Ano\", y=\"Cumulative Sum\",  marker='o')\n",
    "ax.ticklabel_format(style='plain')\n",
    "\n",
    "# Add annotations\n",
    "for line in range(0,df.shape[0]):\n",
    "    ax.text(df.Ano[line], df[\"Cumulative Sum\"][line], df[\"Cumulative Sum\"][line], horizontalalignment='center', size='small', color='black')\n",
    "    ax.text(df.Ano[line], df[\"Cumulative Sum\"][line], df[\"Cumulative Sum\"][line], horizontalalignment='center', size='small', color='black')\n",
    "    \n",
    "         \n",
    "         \n",
    "plt.show()"
   ]
  },
  {
   "cell_type": "markdown",
   "id": "53d0e797",
   "metadata": {},
   "source": [
    "### Analisando a pressão de desmatamento por malha fundiária"
   ]
  },
  {
   "cell_type": "code",
   "execution_count": null,
   "id": "a28d5451",
   "metadata": {},
   "outputs": [],
   "source": [
    "#Definindo nome de arquivos e diretórios:\n",
    "dir_tables = 'C:/Users/User/Dropbox (CPI)/EduardoMinsky/Analise_TellesPires/Analise_Current/FeaturesTable/Alerta_Por Malha/'\n",
    "\n",
    "my_list_files = glob.glob(dir_tables+'*.csv')\n",
    "\n",
    "malha = ['assentamento','CAR','FloraNaoDest','SIGEF','SNUC','TI']\n",
    "my_list_files"
   ]
  },
  {
   "cell_type": "code",
   "execution_count": null,
   "id": "d211bf9a",
   "metadata": {},
   "outputs": [],
   "source": [
    "#Lendo os arquivos, alimentando  a lista de DFs e criando uma coluna com que tipo de malha é\n",
    "\n",
    "pd_list = []\n",
    "for i in range(len(my_list_files)):\n",
    "    a = pd.read_csv(my_list_files[i],sep = ';')\n",
    "    a['Malha'] = malha[i]\n",
    "    pd_list.append(a)"
   ]
  },
  {
   "cell_type": "code",
   "execution_count": null,
   "id": "420b7551",
   "metadata": {},
   "outputs": [],
   "source": [
    "#Vamos passar a coluna de área para number. Estava string\n",
    "pd_list[0]['year'] = pd_list[0]['year'].str.replace(',','.').astype('float')\n",
    "pd_list[1]['year'] = pd_list[1]['year'].str.replace(',','.').astype('float')\n",
    "pd_list[2]['year'] = pd_list[2]['year'].str.replace(',','.').astype('float')\n",
    "pd_list[3]['year'] = pd_list[3]['year'].str.replace(',','.').astype('float')\n",
    "pd_list[4]['year'] = pd_list[4]['year'].str.replace(',','.').astype('float')\n",
    "pd_list[5]['year'] = pd_list[5]['year'].str.replace(',','.').astype('float')\n",
    "\n",
    "\n",
    "\n",
    "#Vamos passar a coluna de geometria para number. Estava string\n",
    "pd_list[0]['area_geom'] = pd_list[0]['area_geom'].str.replace(',','.').astype('float')\n",
    "pd_list[1]['area_geom'] = pd_list[1]['area_geom'].str.replace(',','.').astype('float')\n",
    "pd_list[2]['area_geom'] = pd_list[2]['area_geom'].str.replace(',','.').astype('float')\n",
    "pd_list[3]['area_geom'] = pd_list[3]['area_geom'].str.replace(',','.').astype('float')\n",
    "pd_list[4]['area_geom'] = pd_list[4]['area_geom'].str.replace(',','.').astype('float')\n",
    "pd_list[5]['area_geom'] = pd_list[5]['area_geom'].str.replace(',','.').astype('float')\n",
    "\n",
    "\n"
   ]
  },
  {
   "cell_type": "code",
   "execution_count": null,
   "id": "65d743c6",
   "metadata": {
    "scrolled": true
   },
   "outputs": [],
   "source": [
    "#Retendo apenas as colunas year, area_geom e Malha\n",
    "pd_list2 = []\n",
    "for i in range(len(pd_list)):\n",
    "    a = pd_list[i][['year','area_geom','Malha']]\n",
    "    a['CumulativeSum'] = a.sort_values(by='year')['area_geom'].cumsum()\n",
    "    pd_list2.append(a)\n",
    "    \n",
    "#Concatenando\n",
    "pd_concated = pd.concat(pd_list2,ignore_index=True)"
   ]
  },
  {
   "cell_type": "code",
   "execution_count": null,
   "id": "90452bb9",
   "metadata": {},
   "outputs": [],
   "source": [
    "import seaborn as sns\n",
    "from matplotlib import pyplot as plt\n",
    "ax = sns.lineplot(data=pd_concated, x=\"year\", y=\"CumulativeSum\",hue = 'Malha',marker='o')\n",
    "ax.legend(bbox_to_anchor=(0.99, 1))\n"
   ]
  },
  {
   "cell_type": "code",
   "execution_count": null,
   "id": "53755a01",
   "metadata": {},
   "outputs": [],
   "source": [
    "pd_concated\n",
    "ax2 = sns.lineplot(data=pd_concated.groupby(['year','Malha'],as_index=False)['area_geom'].sum(), x=\"year\", y=\"area_geom\",hue = 'Malha',marker='o',ci=None)\n",
    "ax2.legend(bbox_to_anchor=(0.99, 1))"
   ]
  },
  {
   "cell_type": "code",
   "execution_count": null,
   "id": "c30efdb8",
   "metadata": {},
   "outputs": [],
   "source": []
  },
  {
   "cell_type": "code",
   "execution_count": null,
   "id": "f316fa3b",
   "metadata": {},
   "outputs": [],
   "source": []
  },
  {
   "cell_type": "code",
   "execution_count": null,
   "id": "a5847be3",
   "metadata": {},
   "outputs": [],
   "source": []
  },
  {
   "cell_type": "code",
   "execution_count": null,
   "id": "c0867241",
   "metadata": {},
   "outputs": [],
   "source": []
  },
  {
   "cell_type": "code",
   "execution_count": null,
   "id": "7d1fdb90",
   "metadata": {},
   "outputs": [],
   "source": []
  },
  {
   "cell_type": "code",
   "execution_count": null,
   "id": "210d22ce",
   "metadata": {},
   "outputs": [],
   "source": []
  },
  {
   "cell_type": "code",
   "execution_count": null,
   "id": "a09a6d78",
   "metadata": {},
   "outputs": [],
   "source": []
  },
  {
   "cell_type": "code",
   "execution_count": null,
   "id": "f965a42d",
   "metadata": {},
   "outputs": [],
   "source": [
    "#Total,em dolar, da área de influência para Teles Pires: 66.846.626,00 dólares\n",
    "#Total, em dolar, da área de influência para Teles Pires sobreposta a alguma classe fundiária: 60.449.921,00\n",
    "#Total em Dolar das 4 malhas mais importantes: 57.221.548,00\n",
    "#Total, em Dolar, para o Vazio fundiário: 6.396.705,00\n",
    "show(df_soma_malha_order)"
   ]
  },
  {
   "cell_type": "code",
   "execution_count": null,
   "id": "b7ab6c83",
   "metadata": {},
   "outputs": [],
   "source": [
    "import PyQt5\n",
    "import matplotlib\n",
    "%matplotlib qt\n",
    "import seaborn as sns\n",
    "from matplotlib import pyplot as plt\n",
    "df = desmat_ano.groupby('Ano',as_index=False).gridcode.sum()\n",
    "\n",
    "df['Cumulative Sum'] = df.gridcode.cumsum()\n",
    "\n",
    "ax = sns.lineplot(data=df, x=\"Ano\", y=\"Cumulative Sum\",  marker='o')\n",
    "ax.ticklabel_format(style='plain')\n",
    "\n",
    "# Add annotations\n",
    "for line in range(0,df.shape[0]):\n",
    "    ax.text(df.Ano[line], df[\"Cumulative Sum\"][line], df[\"Cumulative Sum\"][line], horizontalalignment='center', size='small', color='black')\n",
    "    ax.text(df.Ano[line], df[\"Cumulative Sum\"][line], df[\"Cumulative Sum\"][line], horizontalalignment='center', size='small', color='black')\n",
    "    \n",
    "         \n",
    "         \n",
    "\n"
   ]
  },
  {
   "cell_type": "code",
   "execution_count": null,
   "id": "becb03e5",
   "metadata": {},
   "outputs": [],
   "source": [
    "import seaborn as sns\n",
    "from matplotlib import pyplot as plt\n",
    "%matplotlib qt\n",
    "ax = sns.lineplot(data=pd_concated, x=\"year\", y=\"CumulativeSum\",hue = 'Malha',marker='o')\n",
    "ax.legend(bbox_to_anchor=(0.99, 1))"
   ]
  }
 ],
 "metadata": {
  "kernelspec": {
   "display_name": "Python 3 (ipykernel)",
   "language": "python",
   "name": "python3"
  },
  "language_info": {
   "codemirror_mode": {
    "name": "ipython",
    "version": 3
   },
   "file_extension": ".py",
   "mimetype": "text/x-python",
   "name": "python",
   "nbconvert_exporter": "python",
   "pygments_lexer": "ipython3",
   "version": "3.9.16"
  }
 },
 "nbformat": 4,
 "nbformat_minor": 5
}
